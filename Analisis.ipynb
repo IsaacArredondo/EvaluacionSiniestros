{
  "cells": [
    {
      "attachments": {},
      "cell_type": "markdown",
      "metadata": {
        "id": "IPpzNKb8iTRC"
      },
      "source": [
        "# 2. Entendimiento de los Datos"
      ]
    },
    {
      "cell_type": "code",
      "execution_count": 1,
      "metadata": {
        "id": "4acZQ4b2xM8k"
      },
      "outputs": [],
      "source": [
        "## Importamos librerias\n",
        "import pandas as pd\n",
        "import numpy as np\n",
        "import matplotlib.pyplot as plt\n",
        "import seaborn as sns"
      ]
    },
    {
      "cell_type": "code",
      "execution_count": 2,
      "metadata": {
        "id": "oB3LFYBxho9K"
      },
      "outputs": [],
      "source": [
        "# Load Datlas Data\n",
        "data_datlas = pd.read_excel('./data/data_datlas.xlsx')"
      ]
    },
    {
      "cell_type": "code",
      "execution_count": 18,
      "metadata": {
        "id": "Ok_H_OcodJV_"
      },
      "outputs": [
        {
          "data": {
            "text/html": [
              "<div>\n",
              "<style scoped>\n",
              "    .dataframe tbody tr th:only-of-type {\n",
              "        vertical-align: middle;\n",
              "    }\n",
              "\n",
              "    .dataframe tbody tr th {\n",
              "        vertical-align: top;\n",
              "    }\n",
              "\n",
              "    .dataframe thead th {\n",
              "        text-align: right;\n",
              "    }\n",
              "</style>\n",
              "<table border=\"1\" class=\"dataframe\">\n",
              "  <thead>\n",
              "    <tr style=\"text-align: right;\">\n",
              "      <th></th>\n",
              "      <th>Date</th>\n",
              "      <th>TAVG (Degrees Fahrenheit)</th>\n",
              "      <th>TMAX (Degrees Fahrenheit)</th>\n",
              "      <th>TMIN (Degrees Fahrenheit)</th>\n",
              "      <th>PRCP (Inches)</th>\n",
              "      <th>SNOW (Inches)</th>\n",
              "      <th>SNWD (Inches)</th>\n",
              "    </tr>\n",
              "  </thead>\n",
              "  <tbody>\n",
              "    <tr>\n",
              "      <th>0</th>\n",
              "      <td>15/03/1977</td>\n",
              "      <td>76.0</td>\n",
              "      <td>91.0</td>\n",
              "      <td>57.0</td>\n",
              "      <td>0.0</td>\n",
              "      <td>NaN</td>\n",
              "      <td>NaN</td>\n",
              "    </tr>\n",
              "    <tr>\n",
              "      <th>1</th>\n",
              "      <td>18/03/1977</td>\n",
              "      <td>81.0</td>\n",
              "      <td>NaN</td>\n",
              "      <td>NaN</td>\n",
              "      <td>0.0</td>\n",
              "      <td>NaN</td>\n",
              "      <td>NaN</td>\n",
              "    </tr>\n",
              "    <tr>\n",
              "      <th>2</th>\n",
              "      <td>21/03/1977</td>\n",
              "      <td>71.0</td>\n",
              "      <td>NaN</td>\n",
              "      <td>NaN</td>\n",
              "      <td>0.0</td>\n",
              "      <td>NaN</td>\n",
              "      <td>NaN</td>\n",
              "    </tr>\n",
              "  </tbody>\n",
              "</table>\n",
              "</div>"
            ],
            "text/plain": [
              "         Date  TAVG (Degrees Fahrenheit)  TMAX (Degrees Fahrenheit)   \n",
              "0  15/03/1977                       76.0                       91.0  \\\n",
              "1  18/03/1977                       81.0                        NaN   \n",
              "2  21/03/1977                       71.0                        NaN   \n",
              "\n",
              "   TMIN (Degrees Fahrenheit)  PRCP (Inches)  SNOW (Inches)  SNWD (Inches)  \n",
              "0                       57.0            0.0            NaN            NaN  \n",
              "1                        NaN            0.0            NaN            NaN  \n",
              "2                        NaN            0.0            NaN            NaN  "
            ]
          },
          "execution_count": 18,
          "metadata": {},
          "output_type": "execute_result"
        }
      ],
      "source": [
        "# Load Weather Data\n",
        "# Source: https://www.ncei.noaa.gov/access/past-weather/Monterrey%2C%20Nuevo%20Le%C3%B3n, \n",
        "# tomemos la precipitación de Monterrey como si fuera del estado.\n",
        "data_weather = pd.read_csv('./data/data_weather.csv')\n",
        "data_weather.head(3)"
      ]
    },
    {
      "attachments": {},
      "cell_type": "markdown",
      "metadata": {
        "id": "q7fU2UlijfwN"
      },
      "source": [
        "## 2.1 Contexto de los Datos"
      ]
    },
    {
      "cell_type": "code",
      "execution_count": 4,
      "metadata": {
        "colab": {
          "base_uri": "https://localhost:8080/",
          "height": 461
        },
        "id": "iG7dlUwzi9hu",
        "outputId": "5f998985-a105-402b-cb1f-89d86ce91389"
      },
      "outputs": [
        {
          "data": {
            "text/html": [
              "<div>\n",
              "<style scoped>\n",
              "    .dataframe tbody tr th:only-of-type {\n",
              "        vertical-align: middle;\n",
              "    }\n",
              "\n",
              "    .dataframe tbody tr th {\n",
              "        vertical-align: top;\n",
              "    }\n",
              "\n",
              "    .dataframe thead th {\n",
              "        text-align: right;\n",
              "    }\n",
              "</style>\n",
              "<table border=\"1\" class=\"dataframe\">\n",
              "  <thead>\n",
              "    <tr style=\"text-align: right;\">\n",
              "      <th></th>\n",
              "      <th>FOLIO_ID</th>\n",
              "      <th>LAT</th>\n",
              "      <th>LONG</th>\n",
              "      <th>CODIGO POSTAL</th>\n",
              "      <th>CALLE</th>\n",
              "      <th>COLONIA</th>\n",
              "      <th>CAUSA SINIESTRO</th>\n",
              "      <th>TIPO VEHICULO</th>\n",
              "      <th>COLOR</th>\n",
              "      <th>MODELO_VEHICULO</th>\n",
              "      <th>NIVEL DAÑO VEHICULO</th>\n",
              "      <th>PUNTO DE IMPACTO</th>\n",
              "      <th>AÑO</th>\n",
              "      <th>MES</th>\n",
              "      <th>DÍA NUMERO</th>\n",
              "      <th>DIA</th>\n",
              "      <th>HORA</th>\n",
              "      <th>ESTADO</th>\n",
              "      <th>CIUDAD_APROXIMADA</th>\n",
              "      <th>DATE</th>\n",
              "    </tr>\n",
              "  </thead>\n",
              "  <tbody>\n",
              "    <tr>\n",
              "      <th>0</th>\n",
              "      <td>D00001</td>\n",
              "      <td>22.768507</td>\n",
              "      <td>-102.567896</td>\n",
              "      <td>98000</td>\n",
              "      <td>*EP 2 Boulevard Adolfo López Mateos</td>\n",
              "      <td>CERRADA DE CASA BLANCA</td>\n",
              "      <td>COLISION Y/O VUELCO</td>\n",
              "      <td>Camión</td>\n",
              "      <td>BLANCO</td>\n",
              "      <td>2016</td>\n",
              "      <td>Bajo</td>\n",
              "      <td>NaN</td>\n",
              "      <td>2018</td>\n",
              "      <td>1</td>\n",
              "      <td>11</td>\n",
              "      <td>JUEVES</td>\n",
              "      <td>15</td>\n",
              "      <td>NUEVO LEÓN</td>\n",
              "      <td>SAN NICOLAS DE LOS GARZA</td>\n",
              "      <td>2018-01-11</td>\n",
              "    </tr>\n",
              "    <tr>\n",
              "      <th>1</th>\n",
              "      <td>D00002</td>\n",
              "      <td>25.647351</td>\n",
              "      <td>-100.140132</td>\n",
              "      <td>67277</td>\n",
              "      <td>AMERICA 65</td>\n",
              "      <td>BALCONES DE ZINDARO</td>\n",
              "      <td>COLISION Y/O VUELCO</td>\n",
              "      <td>Camión</td>\n",
              "      <td>BLANCO</td>\n",
              "      <td>2009</td>\n",
              "      <td>Sin daño</td>\n",
              "      <td>Costado izq trasero</td>\n",
              "      <td>2018</td>\n",
              "      <td>1</td>\n",
              "      <td>25</td>\n",
              "      <td>JUEVES</td>\n",
              "      <td>10</td>\n",
              "      <td>NUEVO LEÓN</td>\n",
              "      <td>JUAREZ</td>\n",
              "      <td>2018-01-25</td>\n",
              "    </tr>\n",
              "    <tr>\n",
              "      <th>2</th>\n",
              "      <td>D00003</td>\n",
              "      <td>20.679917</td>\n",
              "      <td>-103.368657</td>\n",
              "      <td>44600</td>\n",
              "      <td>AV MEXICO</td>\n",
              "      <td>2 RIOS</td>\n",
              "      <td>COLISION Y/O VUELCO</td>\n",
              "      <td>Auto</td>\n",
              "      <td>BLANCO</td>\n",
              "      <td>2005</td>\n",
              "      <td>Sin daño</td>\n",
              "      <td>Trasero</td>\n",
              "      <td>2018</td>\n",
              "      <td>1</td>\n",
              "      <td>15</td>\n",
              "      <td>LUNES</td>\n",
              "      <td>9</td>\n",
              "      <td>NUEVO LEÓN</td>\n",
              "      <td>GUADALUPE</td>\n",
              "      <td>2018-01-15</td>\n",
              "    </tr>\n",
              "    <tr>\n",
              "      <th>3</th>\n",
              "      <td>D00004</td>\n",
              "      <td>25.718027</td>\n",
              "      <td>-100.249990</td>\n",
              "      <td>66480</td>\n",
              "      <td>Avenida Conductores</td>\n",
              "      <td>Conductores Infonavit</td>\n",
              "      <td>COLISION Y/O VUELCO</td>\n",
              "      <td>Auto</td>\n",
              "      <td>GRIS</td>\n",
              "      <td>2016</td>\n",
              "      <td>Sin daño</td>\n",
              "      <td>Frontal</td>\n",
              "      <td>2018</td>\n",
              "      <td>1</td>\n",
              "      <td>19</td>\n",
              "      <td>VIERNES</td>\n",
              "      <td>9</td>\n",
              "      <td>NUEVO LEÓN</td>\n",
              "      <td>SAN NICOLAS DE LOS GARZA</td>\n",
              "      <td>2018-01-19</td>\n",
              "    </tr>\n",
              "    <tr>\n",
              "      <th>4</th>\n",
              "      <td>D00005</td>\n",
              "      <td>19.266303</td>\n",
              "      <td>-99.331791</td>\n",
              "      <td>\\N</td>\n",
              "      <td>UBERP3</td>\n",
              "      <td>Cuajimalpa</td>\n",
              "      <td>HUELGAS Y ALBOROTOS</td>\n",
              "      <td>Auto</td>\n",
              "      <td>NEGRO</td>\n",
              "      <td>2016</td>\n",
              "      <td>Medio</td>\n",
              "      <td>NaN</td>\n",
              "      <td>2018</td>\n",
              "      <td>1</td>\n",
              "      <td>3</td>\n",
              "      <td>MIERCOLES</td>\n",
              "      <td>16</td>\n",
              "      <td>NUEVO LEÓN</td>\n",
              "      <td>MONTERREY</td>\n",
              "      <td>2018-01-03</td>\n",
              "    </tr>\n",
              "  </tbody>\n",
              "</table>\n",
              "</div>"
            ],
            "text/plain": [
              "  FOLIO_ID        LAT        LONG CODIGO POSTAL   \n",
              "0   D00001  22.768507 -102.567896         98000  \\\n",
              "1   D00002  25.647351 -100.140132         67277   \n",
              "2   D00003  20.679917 -103.368657         44600   \n",
              "3   D00004  25.718027 -100.249990         66480   \n",
              "4   D00005  19.266303  -99.331791            \\N   \n",
              "\n",
              "                                 CALLE                 COLONIA   \n",
              "0  *EP 2 Boulevard Adolfo López Mateos  CERRADA DE CASA BLANCA  \\\n",
              "1                           AMERICA 65     BALCONES DE ZINDARO   \n",
              "2                            AV MEXICO                  2 RIOS   \n",
              "3                  Avenida Conductores   Conductores Infonavit   \n",
              "4                               UBERP3              Cuajimalpa   \n",
              "\n",
              "       CAUSA SINIESTRO TIPO VEHICULO   COLOR MODELO_VEHICULO   \n",
              "0  COLISION Y/O VUELCO        Camión  BLANCO            2016  \\\n",
              "1  COLISION Y/O VUELCO        Camión  BLANCO            2009   \n",
              "2  COLISION Y/O VUELCO          Auto  BLANCO            2005   \n",
              "3  COLISION Y/O VUELCO          Auto    GRIS            2016   \n",
              "4  HUELGAS Y ALBOROTOS          Auto   NEGRO            2016   \n",
              "\n",
              "  NIVEL DAÑO VEHICULO     PUNTO DE IMPACTO   AÑO  MES  DÍA NUMERO        DIA   \n",
              "0                Bajo                  NaN  2018    1          11     JUEVES  \\\n",
              "1            Sin daño  Costado izq trasero  2018    1          25     JUEVES   \n",
              "2            Sin daño              Trasero  2018    1          15      LUNES   \n",
              "3            Sin daño              Frontal  2018    1          19    VIERNES   \n",
              "4               Medio                  NaN  2018    1           3  MIERCOLES   \n",
              "\n",
              "   HORA      ESTADO         CIUDAD_APROXIMADA       DATE  \n",
              "0    15  NUEVO LEÓN  SAN NICOLAS DE LOS GARZA 2018-01-11  \n",
              "1    10  NUEVO LEÓN                    JUAREZ 2018-01-25  \n",
              "2     9  NUEVO LEÓN                 GUADALUPE 2018-01-15  \n",
              "3     9  NUEVO LEÓN  SAN NICOLAS DE LOS GARZA 2018-01-19  \n",
              "4    16  NUEVO LEÓN                 MONTERREY 2018-01-03  "
            ]
          },
          "execution_count": 4,
          "metadata": {},
          "output_type": "execute_result"
        }
      ],
      "source": [
        "data_datlas.head()"
      ]
    },
    {
      "cell_type": "code",
      "execution_count": 5,
      "metadata": {
        "colab": {
          "base_uri": "https://localhost:8080/"
        },
        "id": "OAIVICbKjI2X",
        "outputId": "053499b4-b765-49a5-fa84-9c00d2b79a15"
      },
      "outputs": [
        {
          "name": "stdout",
          "output_type": "stream",
          "text": [
            "<class 'pandas.core.frame.DataFrame'>\n",
            "RangeIndex: 116011 entries, 0 to 116010\n",
            "Data columns (total 20 columns):\n",
            " #   Column               Non-Null Count   Dtype         \n",
            "---  ------               --------------   -----         \n",
            " 0   FOLIO_ID             116011 non-null  object        \n",
            " 1   LAT                  113854 non-null  float64       \n",
            " 2   LONG                 113854 non-null  float64       \n",
            " 3   CODIGO POSTAL        115926 non-null  object        \n",
            " 4   CALLE                116011 non-null  object        \n",
            " 5   COLONIA              115921 non-null  object        \n",
            " 6   CAUSA SINIESTRO      116011 non-null  object        \n",
            " 7   TIPO VEHICULO        115917 non-null  object        \n",
            " 8   COLOR                115852 non-null  object        \n",
            " 9   MODELO_VEHICULO      115925 non-null  object        \n",
            " 10  NIVEL DAÑO VEHICULO  115088 non-null  object        \n",
            " 11  PUNTO DE IMPACTO     104932 non-null  object        \n",
            " 12  AÑO                  116011 non-null  int64         \n",
            " 13  MES                  116011 non-null  int64         \n",
            " 14  DÍA NUMERO           116011 non-null  int64         \n",
            " 15  DIA                  116011 non-null  object        \n",
            " 16  HORA                 116011 non-null  int64         \n",
            " 17  ESTADO               116011 non-null  object        \n",
            " 18  CIUDAD_APROXIMADA    116011 non-null  object        \n",
            " 19  DATE                 116011 non-null  datetime64[ns]\n",
            "dtypes: datetime64[ns](1), float64(2), int64(4), object(13)\n",
            "memory usage: 17.7+ MB\n"
          ]
        }
      ],
      "source": [
        "# Información general del dataframe\n",
        "data_datlas.info()"
      ]
    },
    {
      "attachments": {},
      "cell_type": "markdown",
      "metadata": {
        "id": "HNNoAeDpjwKQ"
      },
      "source": [
        "Tenemos un dataframe con 116,011 registros y 20 columnas, toda la data es referente a registros historicos sobre choques y siniestros de una aseguradora, las variables que tenemos son:\n",
        "\n",
        "**TIPOS DE DATO CATEGORICOS**\n",
        "\n",
        "- **FOLIO_ID (ordinal):** Es el id del registro.\n",
        "\n",
        "- **CODIGO POSTAL (nominal):** Designa un región geográfica.\n",
        "\n",
        "- **CALLE (nominal):** Representa la calle del siniestro.\n",
        "\n",
        "- **COLONIA (nominal):** Representa la colonia del incidente.\n",
        "\n",
        "- **CAUSA SINIESTRO (Nominal):** Causa principal del siniestro.\n",
        "\n",
        "- **TIPO VEHICULO (nominal):** Auto, Camión, Motocicleta, etc.\n",
        "\n",
        "- **COLOR (nominal):** Color del vehiculo.\n",
        "\n",
        "- **MODELO_VEHICULO (ordinal):** - Año del modelo de vehiculo. \n",
        "\n",
        "- **NIVEL DAÑO DEL VEHICULO (nominal):** Nivel de daño del vehiculo.\n",
        "\n",
        "- **PUNTO DE IMPACTO (nominal):** Punto de impacto en el siniestro.\n",
        "\n",
        "- **DIA (nominal):** Dia de la semana en que se dio el impacto.\n",
        "\n",
        "- **ESTADO (nominal):** Estado dentro de México donde se dio el impacto.\n",
        "\n",
        "- **CIUDAD_APROXIMADA (nominal):** Ciudad del Estado donde ocurrio el siniestro.\n",
        "\n",
        "**TIPOS DE DATO NÚMERICO**\n",
        "\n",
        "- **LAT (continuo):** Coordenada geográfica de Latitud.\n",
        "\n",
        "- **LONG (continuo):** Coordenada geográfica de Longitud.\n",
        "\n",
        "- **AÑO (discreto):** Año en que se dio el impacto.\n",
        "\n",
        "- **MES (discreto):** Mes en que se dio el impacto.\n",
        "\n",
        "- **DIA NÚMERO (discreto):** Dia de la semana en que se dio el impacto.\n",
        "\n",
        "- **HORA (discreto):** Hora en que se dio el impacto.\n",
        "\n",
        "**TIPO DE DATO DATETIME**\n",
        "\n",
        "- **DATE (datetime - categorico ordinal):** Representa la fecha del incidente."
      ]
    },
    {
      "attachments": {},
      "cell_type": "markdown",
      "metadata": {
        "id": "EJ7FbeWBrlFL"
      },
      "source": [
        "## 2.2 Revisar el Contexto **y** Calidad de los Datos"
      ]
    },
    {
      "cell_type": "code",
      "execution_count": 6,
      "metadata": {
        "colab": {
          "base_uri": "https://localhost:8080/",
          "height": 300
        },
        "id": "gvdH-MWqjRg7",
        "outputId": "c39d71af-e88a-4626-fbf8-95dc7d8d1938"
      },
      "outputs": [
        {
          "data": {
            "text/html": [
              "<div>\n",
              "<style scoped>\n",
              "    .dataframe tbody tr th:only-of-type {\n",
              "        vertical-align: middle;\n",
              "    }\n",
              "\n",
              "    .dataframe tbody tr th {\n",
              "        vertical-align: top;\n",
              "    }\n",
              "\n",
              "    .dataframe thead th {\n",
              "        text-align: right;\n",
              "    }\n",
              "</style>\n",
              "<table border=\"1\" class=\"dataframe\">\n",
              "  <thead>\n",
              "    <tr style=\"text-align: right;\">\n",
              "      <th></th>\n",
              "      <th>LAT</th>\n",
              "      <th>LONG</th>\n",
              "      <th>AÑO</th>\n",
              "      <th>MES</th>\n",
              "      <th>DÍA NUMERO</th>\n",
              "      <th>HORA</th>\n",
              "      <th>DATE</th>\n",
              "    </tr>\n",
              "  </thead>\n",
              "  <tbody>\n",
              "    <tr>\n",
              "      <th>count</th>\n",
              "      <td>113854.000000</td>\n",
              "      <td>113854.000000</td>\n",
              "      <td>116011.000000</td>\n",
              "      <td>116011.000000</td>\n",
              "      <td>116011.000000</td>\n",
              "      <td>116011.000000</td>\n",
              "      <td>116011</td>\n",
              "    </tr>\n",
              "    <tr>\n",
              "      <th>mean</th>\n",
              "      <td>23.526022</td>\n",
              "      <td>-91.821885</td>\n",
              "      <td>2016.678479</td>\n",
              "      <td>6.005560</td>\n",
              "      <td>15.595797</td>\n",
              "      <td>13.824836</td>\n",
              "      <td>2017-02-18 14:23:26.783839488</td>\n",
              "    </tr>\n",
              "    <tr>\n",
              "      <th>min</th>\n",
              "      <td>-13.520364</td>\n",
              "      <td>-117.019350</td>\n",
              "      <td>2016.000000</td>\n",
              "      <td>1.000000</td>\n",
              "      <td>1.000000</td>\n",
              "      <td>0.000000</td>\n",
              "      <td>2016-01-01 00:00:00</td>\n",
              "    </tr>\n",
              "    <tr>\n",
              "      <th>25%</th>\n",
              "      <td>25.653531</td>\n",
              "      <td>-100.346878</td>\n",
              "      <td>2016.000000</td>\n",
              "      <td>3.000000</td>\n",
              "      <td>8.000000</td>\n",
              "      <td>10.000000</td>\n",
              "      <td>2016-07-10 00:00:00</td>\n",
              "    </tr>\n",
              "    <tr>\n",
              "      <th>50%</th>\n",
              "      <td>25.686510</td>\n",
              "      <td>-100.289794</td>\n",
              "      <td>2017.000000</td>\n",
              "      <td>6.000000</td>\n",
              "      <td>15.000000</td>\n",
              "      <td>14.000000</td>\n",
              "      <td>2017-01-26 00:00:00</td>\n",
              "    </tr>\n",
              "    <tr>\n",
              "      <th>75%</th>\n",
              "      <td>25.734853</td>\n",
              "      <td>-100.214012</td>\n",
              "      <td>2017.000000</td>\n",
              "      <td>9.000000</td>\n",
              "      <td>23.000000</td>\n",
              "      <td>18.000000</td>\n",
              "      <td>2017-09-23 00:00:00</td>\n",
              "    </tr>\n",
              "    <tr>\n",
              "      <th>max</th>\n",
              "      <td>47.827586</td>\n",
              "      <td>35.167756</td>\n",
              "      <td>2018.000000</td>\n",
              "      <td>12.000000</td>\n",
              "      <td>31.000000</td>\n",
              "      <td>23.000000</td>\n",
              "      <td>2018-06-30 00:00:00</td>\n",
              "    </tr>\n",
              "    <tr>\n",
              "      <th>std</th>\n",
              "      <td>7.145716</td>\n",
              "      <td>27.876454</td>\n",
              "      <td>0.720202</td>\n",
              "      <td>3.406765</td>\n",
              "      <td>8.745570</td>\n",
              "      <td>4.741398</td>\n",
              "      <td>NaN</td>\n",
              "    </tr>\n",
              "  </tbody>\n",
              "</table>\n",
              "</div>"
            ],
            "text/plain": [
              "                 LAT           LONG            AÑO            MES   \n",
              "count  113854.000000  113854.000000  116011.000000  116011.000000  \\\n",
              "mean       23.526022     -91.821885    2016.678479       6.005560   \n",
              "min       -13.520364    -117.019350    2016.000000       1.000000   \n",
              "25%        25.653531    -100.346878    2016.000000       3.000000   \n",
              "50%        25.686510    -100.289794    2017.000000       6.000000   \n",
              "75%        25.734853    -100.214012    2017.000000       9.000000   \n",
              "max        47.827586      35.167756    2018.000000      12.000000   \n",
              "std         7.145716      27.876454       0.720202       3.406765   \n",
              "\n",
              "          DÍA NUMERO           HORA                           DATE  \n",
              "count  116011.000000  116011.000000                         116011  \n",
              "mean       15.595797      13.824836  2017-02-18 14:23:26.783839488  \n",
              "min         1.000000       0.000000            2016-01-01 00:00:00  \n",
              "25%         8.000000      10.000000            2016-07-10 00:00:00  \n",
              "50%        15.000000      14.000000            2017-01-26 00:00:00  \n",
              "75%        23.000000      18.000000            2017-09-23 00:00:00  \n",
              "max        31.000000      23.000000            2018-06-30 00:00:00  \n",
              "std         8.745570       4.741398                            NaN  "
            ]
          },
          "execution_count": 6,
          "metadata": {},
          "output_type": "execute_result"
        }
      ],
      "source": [
        "# Estadistica descriptiva\n",
        "data_datlas.describe()"
      ]
    },
    {
      "cell_type": "code",
      "execution_count": 7,
      "metadata": {
        "colab": {
          "base_uri": "https://localhost:8080/"
        },
        "id": "IbaptyMHrxgL",
        "outputId": "747247c3-75bd-4729-c59d-aab8d174a0df"
      },
      "outputs": [
        {
          "name": "stdout",
          "output_type": "stream",
          "text": [
            "Hay 13034 features con valores faltantes en el axis 1.\n"
          ]
        }
      ],
      "source": [
        "# Buscar valores faltaltes en las filas y columnas\n",
        "def buscar_valores_faltantes(data, eje):\n",
        "  valores_faltantes = data.isnull().any(axis=eje).sum()\n",
        "  if valores_faltantes > 0:\n",
        "    print(f\"Hay {valores_faltantes} features con valores faltantes en el axis {eje}.\")\n",
        "  else:\n",
        "    print(f\"No hay valores faltantes en el axis {eje}\")\n",
        "\n",
        "buscar_valores_faltantes(data_datlas, 1)"
      ]
    },
    {
      "cell_type": "code",
      "execution_count": 8,
      "metadata": {
        "colab": {
          "base_uri": "https://localhost:8080/"
        },
        "id": "Xnm0mZIKkrAX",
        "outputId": "931ab30c-f161-4318-ea73-5c4db0b0e638"
      },
      "outputs": [
        {
          "name": "stdout",
          "output_type": "stream",
          "text": [
            "FOLIO_ID               False\n",
            "LAT                     True\n",
            "LONG                    True\n",
            "CODIGO POSTAL           True\n",
            "CALLE                  False\n",
            "COLONIA                 True\n",
            "CAUSA SINIESTRO        False\n",
            "TIPO VEHICULO           True\n",
            "COLOR                   True\n",
            "MODELO_VEHICULO         True\n",
            "NIVEL DAÑO VEHICULO     True\n",
            "PUNTO DE IMPACTO        True\n",
            "AÑO                    False\n",
            "MES                    False\n",
            "DÍA NUMERO             False\n",
            "DIA                    False\n",
            "HORA                   False\n",
            "ESTADO                 False\n",
            "CIUDAD_APROXIMADA      False\n",
            "DATE                   False\n",
            "dtype: bool\n",
            "-------------------------------\n",
            "Hay 9 features con valores faltantes en el axis 0.\n"
          ]
        }
      ],
      "source": [
        "## ¿Qué columnas tienen valores faltantes?\n",
        "valores_faltantes_columnas=data_datlas.isnull().any(axis=0)\n",
        "print(valores_faltantes_columnas)\n",
        "print(\"-------------------------------\")\n",
        "buscar_valores_faltantes(data_datlas, 0)"
      ]
    },
    {
      "attachments": {},
      "cell_type": "markdown",
      "metadata": {
        "id": "HlZ5oasulwHU"
      },
      "source": [
        "Dado que tenemos 13,034 filas con valores faltantes en las columnas **LAT, LONG, CODIGO POSTAL, COLONIA, TIPO VEHICULO, COLOR, MODELO, NIVEL DE DAÑO y PUNTO DE IMPACTO**, a partir de aquí tomare la decisión de eliminar todas estás filas del dataframe porque son valores que generan ruido al análisis.\n",
        "\n",
        "Cabe mencionar que en otras circunstancias este tipo de valores faltantes se podría conseguir con ayuda de otra base de datos o con una API de geolocalización en el caso de los valores geográficos."
      ]
    },
    {
      "cell_type": "code",
      "execution_count": 9,
      "metadata": {
        "colab": {
          "base_uri": "https://localhost:8080/"
        },
        "id": "xQx3yUnnjtAC",
        "outputId": "f325527f-6cee-4905-fdac-a657b9b265bf"
      },
      "outputs": [
        {
          "name": "stdout",
          "output_type": "stream",
          "text": [
            "No hay valores faltantes en el axis 1\n",
            "No hay valores faltantes en el axis 0\n"
          ]
        }
      ],
      "source": [
        "## Eliminamos las filas con valores faltantes.\n",
        "data_datlas=data_datlas.dropna()\n",
        "## Buscamos filas con registros faltanes\n",
        "buscar_valores_faltantes(data_datlas, 1)\n",
        "## Buscamos columnas con registros faltantes\n",
        "buscar_valores_faltantes(data_datlas, 0)"
      ]
    },
    {
      "cell_type": "code",
      "execution_count": 10,
      "metadata": {
        "colab": {
          "base_uri": "https://localhost:8080/"
        },
        "id": "9ID9T1mFjO2U",
        "outputId": "ddc20e67-49c1-4e86-83fa-38461d12b80c"
      },
      "outputs": [
        {
          "name": "stdout",
          "output_type": "stream",
          "text": [
            "0 filas duplicadas.\n"
          ]
        }
      ],
      "source": [
        "# Buscando filas con valores duplicadas\n",
        "duplicados = data_datlas.duplicated()\n",
        "print(len(data_datlas[duplicados]), \"filas duplicadas.\")"
      ]
    },
    {
      "cell_type": "code",
      "execution_count": 11,
      "metadata": {
        "colab": {
          "base_uri": "https://localhost:8080/",
          "height": 862
        },
        "id": "oQPBhz6Ap7Rb",
        "outputId": "c1d56048-7aaa-4796-c23e-3dad30a070c8"
      },
      "outputs": [
        {
          "name": "stdout",
          "output_type": "stream",
          "text": [
            "<class 'pandas.core.frame.DataFrame'>\n",
            "Index: 102977 entries, 1 to 116010\n",
            "Data columns (total 20 columns):\n",
            " #   Column               Non-Null Count   Dtype         \n",
            "---  ------               --------------   -----         \n",
            " 0   FOLIO_ID             102977 non-null  object        \n",
            " 1   LAT                  102977 non-null  float64       \n",
            " 2   LONG                 102977 non-null  float64       \n",
            " 3   CODIGO POSTAL        102977 non-null  object        \n",
            " 4   CALLE                102977 non-null  object        \n",
            " 5   COLONIA              102977 non-null  object        \n",
            " 6   CAUSA SINIESTRO      102977 non-null  object        \n",
            " 7   TIPO VEHICULO        102977 non-null  object        \n",
            " 8   COLOR                102977 non-null  object        \n",
            " 9   MODELO_VEHICULO      102977 non-null  object        \n",
            " 10  NIVEL DAÑO VEHICULO  102977 non-null  object        \n",
            " 11  PUNTO DE IMPACTO     102977 non-null  object        \n",
            " 12  AÑO                  102977 non-null  int64         \n",
            " 13  MES                  102977 non-null  int64         \n",
            " 14  DÍA NUMERO           102977 non-null  int64         \n",
            " 15  DIA                  102977 non-null  object        \n",
            " 16  HORA                 102977 non-null  int64         \n",
            " 17  ESTADO               102977 non-null  object        \n",
            " 18  CIUDAD_APROXIMADA    102977 non-null  object        \n",
            " 19  DATE                 102977 non-null  datetime64[ns]\n",
            "dtypes: datetime64[ns](1), float64(2), int64(4), object(13)\n",
            "memory usage: 16.5+ MB\n",
            "None\n"
          ]
        },
        {
          "data": {
            "text/html": [
              "<div>\n",
              "<style scoped>\n",
              "    .dataframe tbody tr th:only-of-type {\n",
              "        vertical-align: middle;\n",
              "    }\n",
              "\n",
              "    .dataframe tbody tr th {\n",
              "        vertical-align: top;\n",
              "    }\n",
              "\n",
              "    .dataframe thead th {\n",
              "        text-align: right;\n",
              "    }\n",
              "</style>\n",
              "<table border=\"1\" class=\"dataframe\">\n",
              "  <thead>\n",
              "    <tr style=\"text-align: right;\">\n",
              "      <th></th>\n",
              "      <th>FOLIO_ID</th>\n",
              "      <th>LAT</th>\n",
              "      <th>LONG</th>\n",
              "      <th>CODIGO POSTAL</th>\n",
              "      <th>CALLE</th>\n",
              "      <th>COLONIA</th>\n",
              "      <th>CAUSA SINIESTRO</th>\n",
              "      <th>TIPO VEHICULO</th>\n",
              "      <th>COLOR</th>\n",
              "      <th>MODELO_VEHICULO</th>\n",
              "      <th>NIVEL DAÑO VEHICULO</th>\n",
              "      <th>PUNTO DE IMPACTO</th>\n",
              "      <th>AÑO</th>\n",
              "      <th>MES</th>\n",
              "      <th>DÍA NUMERO</th>\n",
              "      <th>DIA</th>\n",
              "      <th>HORA</th>\n",
              "      <th>ESTADO</th>\n",
              "      <th>CIUDAD_APROXIMADA</th>\n",
              "      <th>DATE</th>\n",
              "    </tr>\n",
              "  </thead>\n",
              "  <tbody>\n",
              "    <tr>\n",
              "      <th>1</th>\n",
              "      <td>D00002</td>\n",
              "      <td>25.647351</td>\n",
              "      <td>-100.140132</td>\n",
              "      <td>67277</td>\n",
              "      <td>AMERICA 65</td>\n",
              "      <td>BALCONES DE ZINDARO</td>\n",
              "      <td>COLISION Y/O VUELCO</td>\n",
              "      <td>Camión</td>\n",
              "      <td>BLANCO</td>\n",
              "      <td>2009</td>\n",
              "      <td>Sin daño</td>\n",
              "      <td>Costado izq trasero</td>\n",
              "      <td>2018</td>\n",
              "      <td>1</td>\n",
              "      <td>25</td>\n",
              "      <td>JUEVES</td>\n",
              "      <td>10</td>\n",
              "      <td>NUEVO LEÓN</td>\n",
              "      <td>JUAREZ</td>\n",
              "      <td>2018-01-25</td>\n",
              "    </tr>\n",
              "    <tr>\n",
              "      <th>2</th>\n",
              "      <td>D00003</td>\n",
              "      <td>20.679917</td>\n",
              "      <td>-103.368657</td>\n",
              "      <td>44600</td>\n",
              "      <td>AV MEXICO</td>\n",
              "      <td>2 RIOS</td>\n",
              "      <td>COLISION Y/O VUELCO</td>\n",
              "      <td>Auto</td>\n",
              "      <td>BLANCO</td>\n",
              "      <td>2005</td>\n",
              "      <td>Sin daño</td>\n",
              "      <td>Trasero</td>\n",
              "      <td>2018</td>\n",
              "      <td>1</td>\n",
              "      <td>15</td>\n",
              "      <td>LUNES</td>\n",
              "      <td>9</td>\n",
              "      <td>NUEVO LEÓN</td>\n",
              "      <td>GUADALUPE</td>\n",
              "      <td>2018-01-15</td>\n",
              "    </tr>\n",
              "    <tr>\n",
              "      <th>3</th>\n",
              "      <td>D00004</td>\n",
              "      <td>25.718027</td>\n",
              "      <td>-100.249990</td>\n",
              "      <td>66480</td>\n",
              "      <td>Avenida Conductores</td>\n",
              "      <td>Conductores Infonavit</td>\n",
              "      <td>COLISION Y/O VUELCO</td>\n",
              "      <td>Auto</td>\n",
              "      <td>GRIS</td>\n",
              "      <td>2016</td>\n",
              "      <td>Sin daño</td>\n",
              "      <td>Frontal</td>\n",
              "      <td>2018</td>\n",
              "      <td>1</td>\n",
              "      <td>19</td>\n",
              "      <td>VIERNES</td>\n",
              "      <td>9</td>\n",
              "      <td>NUEVO LEÓN</td>\n",
              "      <td>SAN NICOLAS DE LOS GARZA</td>\n",
              "      <td>2018-01-19</td>\n",
              "    </tr>\n",
              "  </tbody>\n",
              "</table>\n",
              "</div>"
            ],
            "text/plain": [
              "  FOLIO_ID        LAT        LONG CODIGO POSTAL                CALLE   \n",
              "1   D00002  25.647351 -100.140132         67277           AMERICA 65  \\\n",
              "2   D00003  20.679917 -103.368657         44600            AV MEXICO   \n",
              "3   D00004  25.718027 -100.249990         66480  Avenida Conductores   \n",
              "\n",
              "                 COLONIA      CAUSA SINIESTRO TIPO VEHICULO   COLOR   \n",
              "1    BALCONES DE ZINDARO  COLISION Y/O VUELCO        Camión  BLANCO  \\\n",
              "2                 2 RIOS  COLISION Y/O VUELCO          Auto  BLANCO   \n",
              "3  Conductores Infonavit  COLISION Y/O VUELCO          Auto    GRIS   \n",
              "\n",
              "  MODELO_VEHICULO NIVEL DAÑO VEHICULO     PUNTO DE IMPACTO   AÑO  MES   \n",
              "1            2009            Sin daño  Costado izq trasero  2018    1  \\\n",
              "2            2005            Sin daño              Trasero  2018    1   \n",
              "3            2016            Sin daño              Frontal  2018    1   \n",
              "\n",
              "   DÍA NUMERO      DIA  HORA      ESTADO         CIUDAD_APROXIMADA       DATE  \n",
              "1          25   JUEVES    10  NUEVO LEÓN                    JUAREZ 2018-01-25  \n",
              "2          15    LUNES     9  NUEVO LEÓN                 GUADALUPE 2018-01-15  \n",
              "3          19  VIERNES     9  NUEVO LEÓN  SAN NICOLAS DE LOS GARZA 2018-01-19  "
            ]
          },
          "execution_count": 11,
          "metadata": {},
          "output_type": "execute_result"
        }
      ],
      "source": [
        "## Veamos nuevamente la información del dataframe\n",
        "print(data_datlas.info())\n",
        "data_datlas.head(3)"
      ]
    },
    {
      "cell_type": "code",
      "execution_count": 12,
      "metadata": {
        "colab": {
          "base_uri": "https://localhost:8080/",
          "height": 496
        },
        "id": "h-Wmh6Ivux0l",
        "outputId": "69431b64-fe59-4c37-d2e4-613f611367cc"
      },
      "outputs": [
        {
          "data": {
            "text/html": [
              "<div>\n",
              "<style scoped>\n",
              "    .dataframe tbody tr th:only-of-type {\n",
              "        vertical-align: middle;\n",
              "    }\n",
              "\n",
              "    .dataframe tbody tr th {\n",
              "        vertical-align: top;\n",
              "    }\n",
              "\n",
              "    .dataframe thead th {\n",
              "        text-align: right;\n",
              "    }\n",
              "</style>\n",
              "<table border=\"1\" class=\"dataframe\">\n",
              "  <thead>\n",
              "    <tr style=\"text-align: right;\">\n",
              "      <th></th>\n",
              "      <th>FOLIO_ID</th>\n",
              "      <th>LAT</th>\n",
              "      <th>LONG</th>\n",
              "      <th>CODIGO POSTAL</th>\n",
              "      <th>CALLE</th>\n",
              "      <th>COLONIA</th>\n",
              "      <th>CAUSA SINIESTRO</th>\n",
              "      <th>TIPO VEHICULO</th>\n",
              "      <th>COLOR</th>\n",
              "      <th>MODELO_VEHICULO</th>\n",
              "      <th>NIVEL DAÑO VEHICULO</th>\n",
              "      <th>PUNTO DE IMPACTO</th>\n",
              "      <th>AÑO</th>\n",
              "      <th>MES</th>\n",
              "      <th>DÍA NUMERO</th>\n",
              "      <th>DIA</th>\n",
              "      <th>HORA</th>\n",
              "      <th>ESTADO</th>\n",
              "      <th>CIUDAD_APROXIMADA</th>\n",
              "      <th>DATE</th>\n",
              "    </tr>\n",
              "  </thead>\n",
              "  <tbody>\n",
              "    <tr>\n",
              "      <th>1</th>\n",
              "      <td>D00002</td>\n",
              "      <td>25.647351</td>\n",
              "      <td>-100.140132</td>\n",
              "      <td>67277</td>\n",
              "      <td>AMERICA 65</td>\n",
              "      <td>BALCONES DE ZINDARO</td>\n",
              "      <td>COLISION Y/O VUELCO</td>\n",
              "      <td>Camión</td>\n",
              "      <td>BLANCO</td>\n",
              "      <td>2009</td>\n",
              "      <td>Sin daño</td>\n",
              "      <td>Costado izq trasero</td>\n",
              "      <td>2018</td>\n",
              "      <td>1</td>\n",
              "      <td>25</td>\n",
              "      <td>JUEVES</td>\n",
              "      <td>10</td>\n",
              "      <td>NUEVO LEÓN</td>\n",
              "      <td>JUAREZ</td>\n",
              "      <td>2018-01-25</td>\n",
              "    </tr>\n",
              "    <tr>\n",
              "      <th>2</th>\n",
              "      <td>D00003</td>\n",
              "      <td>20.679917</td>\n",
              "      <td>-103.368657</td>\n",
              "      <td>44600</td>\n",
              "      <td>AV MEXICO</td>\n",
              "      <td>2 RIOS</td>\n",
              "      <td>COLISION Y/O VUELCO</td>\n",
              "      <td>Auto</td>\n",
              "      <td>BLANCO</td>\n",
              "      <td>2005</td>\n",
              "      <td>Sin daño</td>\n",
              "      <td>Trasero</td>\n",
              "      <td>2018</td>\n",
              "      <td>1</td>\n",
              "      <td>15</td>\n",
              "      <td>LUNES</td>\n",
              "      <td>9</td>\n",
              "      <td>NUEVO LEÓN</td>\n",
              "      <td>GUADALUPE</td>\n",
              "      <td>2018-01-15</td>\n",
              "    </tr>\n",
              "    <tr>\n",
              "      <th>3</th>\n",
              "      <td>D00004</td>\n",
              "      <td>25.718027</td>\n",
              "      <td>-100.249990</td>\n",
              "      <td>66480</td>\n",
              "      <td>Avenida Conductores</td>\n",
              "      <td>Conductores Infonavit</td>\n",
              "      <td>COLISION Y/O VUELCO</td>\n",
              "      <td>Auto</td>\n",
              "      <td>GRIS</td>\n",
              "      <td>2016</td>\n",
              "      <td>Sin daño</td>\n",
              "      <td>Frontal</td>\n",
              "      <td>2018</td>\n",
              "      <td>1</td>\n",
              "      <td>19</td>\n",
              "      <td>VIERNES</td>\n",
              "      <td>9</td>\n",
              "      <td>NUEVO LEÓN</td>\n",
              "      <td>SAN NICOLAS DE LOS GARZA</td>\n",
              "      <td>2018-01-19</td>\n",
              "    </tr>\n",
              "    <tr>\n",
              "      <th>5</th>\n",
              "      <td>D00006</td>\n",
              "      <td>19.706476</td>\n",
              "      <td>-99.336598</td>\n",
              "      <td>54650</td>\n",
              "      <td>DUQUE DE BRAGANZA No.331</td>\n",
              "      <td>Santiago el Bajo** REL DE PALMAS</td>\n",
              "      <td>COLISION Y/O VUELCO</td>\n",
              "      <td>Auto</td>\n",
              "      <td>BLANCO</td>\n",
              "      <td>2007</td>\n",
              "      <td>Sin daño</td>\n",
              "      <td>Trasero</td>\n",
              "      <td>2018</td>\n",
              "      <td>1</td>\n",
              "      <td>11</td>\n",
              "      <td>JUEVES</td>\n",
              "      <td>21</td>\n",
              "      <td>NUEVO LEÓN</td>\n",
              "      <td>GENERAL ZUAZUA</td>\n",
              "      <td>2018-01-11</td>\n",
              "    </tr>\n",
              "    <tr>\n",
              "      <th>7</th>\n",
              "      <td>D00008</td>\n",
              "      <td>25.723590</td>\n",
              "      <td>-100.198780</td>\n",
              "      <td>67117</td>\n",
              "      <td>Boulevard Acapulco</td>\n",
              "      <td>REAL DE SAN MIGUEL</td>\n",
              "      <td>COLISION Y/O VUELCO</td>\n",
              "      <td>Auto</td>\n",
              "      <td>BLANCO</td>\n",
              "      <td>2000</td>\n",
              "      <td>Sin daño</td>\n",
              "      <td>Frontal</td>\n",
              "      <td>2018</td>\n",
              "      <td>1</td>\n",
              "      <td>29</td>\n",
              "      <td>LUNES</td>\n",
              "      <td>17</td>\n",
              "      <td>NUEVO LEÓN</td>\n",
              "      <td>GUADALUPE</td>\n",
              "      <td>2018-01-29</td>\n",
              "    </tr>\n",
              "  </tbody>\n",
              "</table>\n",
              "</div>"
            ],
            "text/plain": [
              "  FOLIO_ID        LAT        LONG CODIGO POSTAL                     CALLE   \n",
              "1   D00002  25.647351 -100.140132         67277                AMERICA 65  \\\n",
              "2   D00003  20.679917 -103.368657         44600                 AV MEXICO   \n",
              "3   D00004  25.718027 -100.249990         66480       Avenida Conductores   \n",
              "5   D00006  19.706476  -99.336598         54650  DUQUE DE BRAGANZA No.331   \n",
              "7   D00008  25.723590 -100.198780         67117        Boulevard Acapulco   \n",
              "\n",
              "                            COLONIA      CAUSA SINIESTRO TIPO VEHICULO   \n",
              "1               BALCONES DE ZINDARO  COLISION Y/O VUELCO        Camión  \\\n",
              "2                            2 RIOS  COLISION Y/O VUELCO          Auto   \n",
              "3             Conductores Infonavit  COLISION Y/O VUELCO          Auto   \n",
              "5  Santiago el Bajo** REL DE PALMAS  COLISION Y/O VUELCO          Auto   \n",
              "7                REAL DE SAN MIGUEL  COLISION Y/O VUELCO          Auto   \n",
              "\n",
              "    COLOR MODELO_VEHICULO NIVEL DAÑO VEHICULO     PUNTO DE IMPACTO   AÑO  MES   \n",
              "1  BLANCO            2009            Sin daño  Costado izq trasero  2018    1  \\\n",
              "2  BLANCO            2005            Sin daño              Trasero  2018    1   \n",
              "3    GRIS            2016            Sin daño              Frontal  2018    1   \n",
              "5  BLANCO            2007            Sin daño              Trasero  2018    1   \n",
              "7  BLANCO            2000            Sin daño              Frontal  2018    1   \n",
              "\n",
              "   DÍA NUMERO      DIA  HORA      ESTADO         CIUDAD_APROXIMADA       DATE  \n",
              "1          25   JUEVES    10  NUEVO LEÓN                    JUAREZ 2018-01-25  \n",
              "2          15    LUNES     9  NUEVO LEÓN                 GUADALUPE 2018-01-15  \n",
              "3          19  VIERNES     9  NUEVO LEÓN  SAN NICOLAS DE LOS GARZA 2018-01-19  \n",
              "5          11   JUEVES    21  NUEVO LEÓN            GENERAL ZUAZUA 2018-01-11  \n",
              "7          29    LUNES    17  NUEVO LEÓN                 GUADALUPE 2018-01-29  "
            ]
          },
          "execution_count": 12,
          "metadata": {},
          "output_type": "execute_result"
        }
      ],
      "source": [
        "## Reseteamos el indice\n",
        "data_datlas.reset_index()\n",
        "data_datlas.head()"
      ]
    },
    {
      "attachments": {},
      "cell_type": "markdown",
      "metadata": {
        "id": "3fjbatgIMiFP"
      },
      "source": [
        "## 2.3 EDA (Exploratory Data Analysis)"
      ]
    },
    {
      "cell_type": "code",
      "execution_count": 13,
      "metadata": {
        "colab": {
          "base_uri": "https://localhost:8080/"
        },
        "id": "6dnQAtsiLmSq",
        "outputId": "26ac177a-12c2-4179-8c08-74fd4a3f9518"
      },
      "outputs": [
        {
          "name": "stdout",
          "output_type": "stream",
          "text": [
            "FOLIO_ID               102977\n",
            "LAT                     77745\n",
            "LONG                    78326\n",
            "CODIGO POSTAL             810\n",
            "CALLE                   43030\n",
            "COLONIA                 18837\n",
            "CAUSA SINIESTRO             7\n",
            "TIPO VEHICULO               5\n",
            "COLOR                    2341\n",
            "MODELO_VEHICULO           102\n",
            "NIVEL DAÑO VEHICULO         5\n",
            "PUNTO DE IMPACTO           13\n",
            "AÑO                         3\n",
            "MES                        12\n",
            "DÍA NUMERO                 31\n",
            "DIA                         7\n",
            "HORA                       24\n",
            "ESTADO                      1\n",
            "CIUDAD_APROXIMADA          73\n",
            "DATE                      911\n",
            "dtype: int64\n"
          ]
        }
      ],
      "source": [
        "# Obtenemos la cantidad de valores únicos por columna\n",
        "valores_unicos_por_columna = data_datlas.nunique()\n",
        "\n",
        "# Imprimir la cantidad de valores únicos por columna\n",
        "print(valores_unicos_por_columna)"
      ]
    },
    {
      "attachments": {},
      "cell_type": "markdown",
      "metadata": {
        "id": "0k7nGvRCM3fr"
      },
      "source": [
        "Los valores unicos de cada columna nos dan información importante, de aquí sabemos que debemos corregir al menos el COLOR, ya que es muy poco probable que sean 2341 colores diferentes, así que vamos a comenzar a realizar limpieza columna por columna."
      ]
    },
    {
      "cell_type": "code",
      "execution_count": 14,
      "metadata": {
        "colab": {
          "base_uri": "https://localhost:8080/"
        },
        "id": "HK8bDS7iVpWv",
        "outputId": "551e3860-ab47-46aa-8df9-28da433cdbff"
      },
      "outputs": [
        {
          "data": {
            "text/plain": [
              "Index(['LAT', 'LONG', 'CODIGO POSTAL', 'CALLE', 'COLONIA', 'CAUSA SINIESTRO',\n",
              "       'TIPO VEHICULO', 'COLOR', 'MODELO_VEHICULO', 'NIVEL DAÑO VEHICULO',\n",
              "       'PUNTO DE IMPACTO', 'AÑO', 'MES', 'DÍA NUMERO', 'DIA', 'HORA', 'ESTADO',\n",
              "       'CIUDAD_APROXIMADA', 'DATE'],\n",
              "      dtype='object')"
            ]
          },
          "execution_count": 14,
          "metadata": {},
          "output_type": "execute_result"
        }
      ],
      "source": [
        "# Eliminamos la columna FOLIO_ID ya que no nos aporta información relevante en este punto.\n",
        "data_datlas=data_datlas.drop('FOLIO_ID', axis=1)\n",
        "data_datlas.columns"
      ]
    },
    {
      "cell_type": "code",
      "execution_count": 15,
      "metadata": {
        "colab": {
          "base_uri": "https://localhost:8080/"
        },
        "id": "V6NGVzP0WLzM",
        "outputId": "3764123f-4ab5-477e-b5ee-c31f521e58af"
      },
      "outputs": [
        {
          "name": "stdout",
          "output_type": "stream",
          "text": [
            "<class 'pandas.core.frame.DataFrame'>\n",
            "Index: 94770 entries, 1 to 116010\n",
            "Data columns (total 19 columns):\n",
            " #   Column               Non-Null Count  Dtype         \n",
            "---  ------               --------------  -----         \n",
            " 0   LAT                  94770 non-null  float64       \n",
            " 1   LONG                 94770 non-null  float64       \n",
            " 2   CODIGO POSTAL        94770 non-null  object        \n",
            " 3   CALLE                94770 non-null  object        \n",
            " 4   COLONIA              94770 non-null  object        \n",
            " 5   CAUSA SINIESTRO      94770 non-null  object        \n",
            " 6   TIPO VEHICULO        94770 non-null  object        \n",
            " 7   COLOR                94770 non-null  object        \n",
            " 8   MODELO_VEHICULO      94770 non-null  object        \n",
            " 9   NIVEL DAÑO VEHICULO  94770 non-null  object        \n",
            " 10  PUNTO DE IMPACTO     94770 non-null  object        \n",
            " 11  AÑO                  94770 non-null  int64         \n",
            " 12  MES                  94770 non-null  int64         \n",
            " 13  DÍA NUMERO           94770 non-null  int64         \n",
            " 14  DIA                  94770 non-null  object        \n",
            " 15  HORA                 94770 non-null  int64         \n",
            " 16  ESTADO               94770 non-null  object        \n",
            " 17  CIUDAD_APROXIMADA    94770 non-null  object        \n",
            " 18  DATE                 94770 non-null  datetime64[ns]\n",
            "dtypes: datetime64[ns](1), float64(2), int64(4), object(12)\n",
            "memory usage: 14.5+ MB\n",
            "-------------------------------------------------------------\n",
            "Index(['LAT', 'LONG', 'CODIGO POSTAL', 'CALLE', 'COLONIA', 'CAUSA SINIESTRO',\n",
            "       'TIPO VEHICULO', 'COLOR', 'MODELO_VEHICULO', 'NIVEL DAÑO VEHICULO',\n",
            "       'PUNTO DE IMPACTO', 'AÑO', 'MES', 'DÍA NUMERO', 'DIA', 'HORA', 'ESTADO',\n",
            "       'CIUDAD_APROXIMADA', 'DATE'],\n",
            "      dtype='object')\n"
          ]
        }
      ],
      "source": [
        "# En cuanto a latitud y longitud, podemos filtrar en un cuadro de coordenadas\n",
        "# Esto mediante nos asegura que los datos son de NUEVO LEON\n",
        "# Para ello, usare las coordenadas de la pagina del INEGI: https://www.inegi.org.mx/app/mapa/espacioydatos/default.aspx\n",
        "lat_min = 23.1535\n",
        "lat_max = 27.8410\n",
        "long_min = -101.2830\n",
        "long_max = -98.4045\n",
        "\n",
        "data_datlas = data_datlas[data_datlas['LAT'] < lat_max]\n",
        "data_datlas = data_datlas[data_datlas['LAT'] > lat_min]\n",
        "data_datlas = data_datlas[data_datlas['LONG'] < long_max]\n",
        "data_datlas = data_datlas[data_datlas['LONG'] > long_min]\n",
        "data_datlas.info()\n",
        "print(\"-------------------------------------------------------------\")\n",
        "print(data_datlas.columns)"
      ]
    },
    {
      "cell_type": "code",
      "execution_count": 58,
      "metadata": {
        "colab": {
          "base_uri": "https://localhost:8080/"
        },
        "id": "1jhlSfDIa8Kw",
        "outputId": "d858d8e9-26e6-430d-c667-c4120f40140c"
      },
      "outputs": [
        {
          "name": "stdout",
          "output_type": "stream",
          "text": [
            "<class 'pandas.core.frame.DataFrame'>\n",
            "Int64Index: 1217 entries, 64 to 115771\n",
            "Data columns (total 19 columns):\n",
            " #   Column               Non-Null Count  Dtype         \n",
            "---  ------               --------------  -----         \n",
            " 0   LAT                  1217 non-null   float64       \n",
            " 1   LONG                 1217 non-null   float64       \n",
            " 2   CODIGO POSTAL        1217 non-null   object        \n",
            " 3   CALLE                1217 non-null   object        \n",
            " 4   COLONIA              1217 non-null   object        \n",
            " 5   CAUSA SINIESTRO      1217 non-null   object        \n",
            " 6   TIPO VEHICULO        1217 non-null   object        \n",
            " 7   COLOR                1217 non-null   object        \n",
            " 8   MODELO_VEHICULO      1217 non-null   object        \n",
            " 9   NIVEL DAÑO VEHICULO  1217 non-null   object        \n",
            " 10  PUNTO DE IMPACTO     1217 non-null   object        \n",
            " 11  AÑO                  1217 non-null   int64         \n",
            " 12  MES                  1217 non-null   int64         \n",
            " 13  DÍA NUMERO           1217 non-null   int64         \n",
            " 14  DIA                  1217 non-null   object        \n",
            " 15  HORA                 1217 non-null   int64         \n",
            " 16  ESTADO               1217 non-null   object        \n",
            " 17  CIUDAD_APROXIMADA    1217 non-null   object        \n",
            " 18  DATE                 1217 non-null   datetime64[ns]\n",
            "dtypes: datetime64[ns](1), float64(2), int64(4), object(12)\n",
            "memory usage: 190.2+ KB\n"
          ]
        }
      ],
      "source": [
        "## Para el codigo postal, deben ser codigos de 5 digitos, así que vamos a extraer solo aquellos que cumplan con la condición\n",
        "data_datlas['CODIGO POSTAL'] = data_datlas['CODIGO POSTAL'].str.extract(r'(\\d{6})')\n",
        "# Eliminamos los NAs\n",
        "data_datlas = data_datlas.dropna()\n",
        "data_datlas.info()"
      ]
    },
    {
      "attachments": {},
      "cell_type": "markdown",
      "metadata": {
        "id": "ABRXt2qUrCl1"
      },
      "source": [
        "## 2.4 Visualizaciones"
      ]
    },
    {
      "cell_type": "code",
      "execution_count": 12,
      "metadata": {
        "colab": {
          "base_uri": "https://localhost:8080/",
          "height": 424
        },
        "id": "yVk1JxgXpsWD",
        "outputId": "2d3cb52a-8c18-4921-ad6f-18e862d293f3"
      },
      "outputs": [
        {
          "data": {
            "text/html": [
              "\n",
              "  <div id=\"df-41f255d8-5b21-43bb-b1fb-890b84bbf917\">\n",
              "    <div class=\"colab-df-container\">\n",
              "      <div>\n",
              "<style scoped>\n",
              "    .dataframe tbody tr th:only-of-type {\n",
              "        vertical-align: middle;\n",
              "    }\n",
              "\n",
              "    .dataframe tbody tr th {\n",
              "        vertical-align: top;\n",
              "    }\n",
              "\n",
              "    .dataframe thead th {\n",
              "        text-align: right;\n",
              "    }\n",
              "</style>\n",
              "<table border=\"1\" class=\"dataframe\">\n",
              "  <thead>\n",
              "    <tr style=\"text-align: right;\">\n",
              "      <th></th>\n",
              "      <th>FOLIO_ID</th>\n",
              "      <th>MODELO_VEHICULO</th>\n",
              "      <th>AÑO</th>\n",
              "      <th>MES</th>\n",
              "      <th>DÍA NUMERO</th>\n",
              "      <th>HORA</th>\n",
              "    </tr>\n",
              "  </thead>\n",
              "  <tbody>\n",
              "    <tr>\n",
              "      <th>1</th>\n",
              "      <td>D00002</td>\n",
              "      <td>2009</td>\n",
              "      <td>2018</td>\n",
              "      <td>1</td>\n",
              "      <td>25</td>\n",
              "      <td>10</td>\n",
              "    </tr>\n",
              "    <tr>\n",
              "      <th>2</th>\n",
              "      <td>D00003</td>\n",
              "      <td>2005</td>\n",
              "      <td>2018</td>\n",
              "      <td>1</td>\n",
              "      <td>15</td>\n",
              "      <td>9</td>\n",
              "    </tr>\n",
              "    <tr>\n",
              "      <th>3</th>\n",
              "      <td>D00004</td>\n",
              "      <td>2016</td>\n",
              "      <td>2018</td>\n",
              "      <td>1</td>\n",
              "      <td>19</td>\n",
              "      <td>9</td>\n",
              "    </tr>\n",
              "    <tr>\n",
              "      <th>5</th>\n",
              "      <td>D00006</td>\n",
              "      <td>2007</td>\n",
              "      <td>2018</td>\n",
              "      <td>1</td>\n",
              "      <td>11</td>\n",
              "      <td>21</td>\n",
              "    </tr>\n",
              "    <tr>\n",
              "      <th>7</th>\n",
              "      <td>D00008</td>\n",
              "      <td>2000</td>\n",
              "      <td>2018</td>\n",
              "      <td>1</td>\n",
              "      <td>29</td>\n",
              "      <td>17</td>\n",
              "    </tr>\n",
              "    <tr>\n",
              "      <th>...</th>\n",
              "      <td>...</td>\n",
              "      <td>...</td>\n",
              "      <td>...</td>\n",
              "      <td>...</td>\n",
              "      <td>...</td>\n",
              "      <td>...</td>\n",
              "    </tr>\n",
              "    <tr>\n",
              "      <th>116004</th>\n",
              "      <td>D116010</td>\n",
              "      <td>2014</td>\n",
              "      <td>2016</td>\n",
              "      <td>1</td>\n",
              "      <td>18</td>\n",
              "      <td>15</td>\n",
              "    </tr>\n",
              "    <tr>\n",
              "      <th>116005</th>\n",
              "      <td>D116011</td>\n",
              "      <td>2014</td>\n",
              "      <td>2016</td>\n",
              "      <td>12</td>\n",
              "      <td>26</td>\n",
              "      <td>2</td>\n",
              "    </tr>\n",
              "    <tr>\n",
              "      <th>116006</th>\n",
              "      <td>D116012</td>\n",
              "      <td>2003</td>\n",
              "      <td>2016</td>\n",
              "      <td>12</td>\n",
              "      <td>29</td>\n",
              "      <td>19</td>\n",
              "    </tr>\n",
              "    <tr>\n",
              "      <th>116007</th>\n",
              "      <td>D116013</td>\n",
              "      <td>2006</td>\n",
              "      <td>2016</td>\n",
              "      <td>1</td>\n",
              "      <td>30</td>\n",
              "      <td>15</td>\n",
              "    </tr>\n",
              "    <tr>\n",
              "      <th>116010</th>\n",
              "      <td>D116016</td>\n",
              "      <td>2012</td>\n",
              "      <td>2016</td>\n",
              "      <td>12</td>\n",
              "      <td>24</td>\n",
              "      <td>19</td>\n",
              "    </tr>\n",
              "  </tbody>\n",
              "</table>\n",
              "<p>102977 rows × 6 columns</p>\n",
              "</div>\n",
              "      <button class=\"colab-df-convert\" onclick=\"convertToInteractive('df-41f255d8-5b21-43bb-b1fb-890b84bbf917')\"\n",
              "              title=\"Convert this dataframe to an interactive table.\"\n",
              "              style=\"display:none;\">\n",
              "        \n",
              "  <svg xmlns=\"http://www.w3.org/2000/svg\" height=\"24px\"viewBox=\"0 0 24 24\"\n",
              "       width=\"24px\">\n",
              "    <path d=\"M0 0h24v24H0V0z\" fill=\"none\"/>\n",
              "    <path d=\"M18.56 5.44l.94 2.06.94-2.06 2.06-.94-2.06-.94-.94-2.06-.94 2.06-2.06.94zm-11 1L8.5 8.5l.94-2.06 2.06-.94-2.06-.94L8.5 2.5l-.94 2.06-2.06.94zm10 10l.94 2.06.94-2.06 2.06-.94-2.06-.94-.94-2.06-.94 2.06-2.06.94z\"/><path d=\"M17.41 7.96l-1.37-1.37c-.4-.4-.92-.59-1.43-.59-.52 0-1.04.2-1.43.59L10.3 9.45l-7.72 7.72c-.78.78-.78 2.05 0 2.83L4 21.41c.39.39.9.59 1.41.59.51 0 1.02-.2 1.41-.59l7.78-7.78 2.81-2.81c.8-.78.8-2.07 0-2.86zM5.41 20L4 18.59l7.72-7.72 1.47 1.35L5.41 20z\"/>\n",
              "  </svg>\n",
              "      </button>\n",
              "      \n",
              "  <style>\n",
              "    .colab-df-container {\n",
              "      display:flex;\n",
              "      flex-wrap:wrap;\n",
              "      gap: 12px;\n",
              "    }\n",
              "\n",
              "    .colab-df-convert {\n",
              "      background-color: #E8F0FE;\n",
              "      border: none;\n",
              "      border-radius: 50%;\n",
              "      cursor: pointer;\n",
              "      display: none;\n",
              "      fill: #1967D2;\n",
              "      height: 32px;\n",
              "      padding: 0 0 0 0;\n",
              "      width: 32px;\n",
              "    }\n",
              "\n",
              "    .colab-df-convert:hover {\n",
              "      background-color: #E2EBFA;\n",
              "      box-shadow: 0px 1px 2px rgba(60, 64, 67, 0.3), 0px 1px 3px 1px rgba(60, 64, 67, 0.15);\n",
              "      fill: #174EA6;\n",
              "    }\n",
              "\n",
              "    [theme=dark] .colab-df-convert {\n",
              "      background-color: #3B4455;\n",
              "      fill: #D2E3FC;\n",
              "    }\n",
              "\n",
              "    [theme=dark] .colab-df-convert:hover {\n",
              "      background-color: #434B5C;\n",
              "      box-shadow: 0px 1px 3px 1px rgba(0, 0, 0, 0.15);\n",
              "      filter: drop-shadow(0px 1px 2px rgba(0, 0, 0, 0.3));\n",
              "      fill: #FFFFFF;\n",
              "    }\n",
              "  </style>\n",
              "\n",
              "      <script>\n",
              "        const buttonEl =\n",
              "          document.querySelector('#df-41f255d8-5b21-43bb-b1fb-890b84bbf917 button.colab-df-convert');\n",
              "        buttonEl.style.display =\n",
              "          google.colab.kernel.accessAllowed ? 'block' : 'none';\n",
              "\n",
              "        async function convertToInteractive(key) {\n",
              "          const element = document.querySelector('#df-41f255d8-5b21-43bb-b1fb-890b84bbf917');\n",
              "          const dataTable =\n",
              "            await google.colab.kernel.invokeFunction('convertToInteractive',\n",
              "                                                     [key], {});\n",
              "          if (!dataTable) return;\n",
              "\n",
              "          const docLinkHtml = 'Like what you see? Visit the ' +\n",
              "            '<a target=\"_blank\" href=https://colab.research.google.com/notebooks/data_table.ipynb>data table notebook</a>'\n",
              "            + ' to learn more about interactive tables.';\n",
              "          element.innerHTML = '';\n",
              "          dataTable['output_type'] = 'display_data';\n",
              "          await google.colab.output.renderOutput(dataTable, element);\n",
              "          const docLink = document.createElement('div');\n",
              "          docLink.innerHTML = docLinkHtml;\n",
              "          element.appendChild(docLink);\n",
              "        }\n",
              "      </script>\n",
              "    </div>\n",
              "  </div>\n",
              "  "
            ],
            "text/plain": [
              "       FOLIO_ID MODELO_VEHICULO   AÑO  MES  DÍA NUMERO  HORA\n",
              "1        D00002            2009  2018    1          25    10\n",
              "2        D00003            2005  2018    1          15     9\n",
              "3        D00004            2016  2018    1          19     9\n",
              "5        D00006            2007  2018    1          11    21\n",
              "7        D00008            2000  2018    1          29    17\n",
              "...         ...             ...   ...  ...         ...   ...\n",
              "116004  D116010            2014  2016    1          18    15\n",
              "116005  D116011            2014  2016   12          26     2\n",
              "116006  D116012            2003  2016   12          29    19\n",
              "116007  D116013            2006  2016    1          30    15\n",
              "116010  D116016            2012  2016   12          24    19\n",
              "\n",
              "[102977 rows x 6 columns]"
            ]
          },
          "execution_count": 12,
          "metadata": {},
          "output_type": "execute_result"
        }
      ],
      "source": [
        "# Comencemos por crear un nuevo dataframe de las variables cuantitativas\n",
        "columnas_a_incluir = ['FOLIO_ID','MODELO_VEHICULO', 'AÑO', 'MES', 'DÍA NUMERO', 'HORA']\n",
        "\n",
        "data_cuantitativa = data_datlas[columnas_a_incluir]\n",
        "data_cuantitativa"
      ]
    },
    {
      "cell_type": "code",
      "execution_count": 13,
      "metadata": {
        "colab": {
          "base_uri": "https://localhost:8080/"
        },
        "id": "Ql_voH_czK3L",
        "outputId": "d1c27e6c-d6b0-4e35-9636-52d5f9af8141"
      },
      "outputs": [
        {
          "name": "stdout",
          "output_type": "stream",
          "text": [
            "<class 'pandas.core.frame.DataFrame'>\n",
            "Int64Index: 102977 entries, 1 to 116010\n",
            "Data columns (total 6 columns):\n",
            " #   Column           Non-Null Count   Dtype \n",
            "---  ------           --------------   ----- \n",
            " 0   FOLIO_ID         102977 non-null  object\n",
            " 1   MODELO_VEHICULO  102977 non-null  object\n",
            " 2   AÑO              102977 non-null  int64 \n",
            " 3   MES              102977 non-null  int64 \n",
            " 4   DÍA NUMERO       102977 non-null  int64 \n",
            " 5   HORA             102977 non-null  int64 \n",
            "dtypes: int64(4), object(2)\n",
            "memory usage: 5.5+ MB\n"
          ]
        }
      ],
      "source": [
        "#Revicemos el estado de estado de estos datos en especifico\n",
        "data_cuantitativa.info()"
      ]
    },
    {
      "cell_type": "code",
      "execution_count": 14,
      "metadata": {
        "colab": {
          "base_uri": "https://localhost:8080/"
        },
        "id": "eIs8O4F2A1Vx",
        "outputId": "2920bff3-41f1-4f14-8eb7-91ced8271bb3"
      },
      "outputs": [
        {
          "name": "stderr",
          "output_type": "stream",
          "text": [
            "<ipython-input-14-c9cf2a456c21>:2: SettingWithCopyWarning: \n",
            "A value is trying to be set on a copy of a slice from a DataFrame.\n",
            "Try using .loc[row_indexer,col_indexer] = value instead\n",
            "\n",
            "See the caveats in the documentation: https://pandas.pydata.org/pandas-docs/stable/user_guide/indexing.html#returning-a-view-versus-a-copy\n",
            "  data_cuantitativa['MODELO_VEHICULO'] = data_cuantitativa['MODELO_VEHICULO'].astype(str) # convertimos todo a un solo tipo de dato string\n",
            "<ipython-input-14-c9cf2a456c21>:3: SettingWithCopyWarning: \n",
            "A value is trying to be set on a copy of a slice from a DataFrame.\n",
            "Try using .loc[row_indexer,col_indexer] = value instead\n",
            "\n",
            "See the caveats in the documentation: https://pandas.pydata.org/pandas-docs/stable/user_guide/indexing.html#returning-a-view-versus-a-copy\n",
            "  data_cuantitativa['MODELO_VEHICULO'] = data_cuantitativa['MODELO_VEHICULO'].str.extract(r'(\\d{4})') # reemplazamos cada valor por un entero de 4 digitos o por NA si no lo es.\n"
          ]
        },
        {
          "name": "stdout",
          "output_type": "stream",
          "text": [
            "<class 'pandas.core.frame.DataFrame'>\n",
            "Int64Index: 102977 entries, 1 to 116010\n",
            "Data columns (total 6 columns):\n",
            " #   Column           Non-Null Count   Dtype \n",
            "---  ------           --------------   ----- \n",
            " 0   FOLIO_ID         102977 non-null  object\n",
            " 1   MODELO_VEHICULO  102579 non-null  object\n",
            " 2   AÑO              102977 non-null  int64 \n",
            " 3   MES              102977 non-null  int64 \n",
            " 4   DÍA NUMERO       102977 non-null  int64 \n",
            " 5   HORA             102977 non-null  int64 \n",
            "dtypes: int64(4), object(2)\n",
            "memory usage: 5.5+ MB\n"
          ]
        }
      ],
      "source": [
        "# Arreglamos la columna MODELO_VEHICULO\n",
        "data_cuantitativa['MODELO_VEHICULO'] = data_cuantitativa['MODELO_VEHICULO'].astype(str) # convertimos todo a un solo tipo de dato string\n",
        "data_cuantitativa['MODELO_VEHICULO'] = data_cuantitativa['MODELO_VEHICULO'].str.extract(r'(\\d{4})') # reemplazamos cada valor por un entero de 4 digitos o por NA si no lo es.\n",
        "data_cuantitativa.info()"
      ]
    },
    {
      "attachments": {},
      "cell_type": "markdown",
      "metadata": {
        "id": "0LbTh5NTFG3Q"
      },
      "source": [
        "Tenemos ahora un dataframe con 102576 valores no nulos, así que procedemos a eliminar todos los valores NA."
      ]
    },
    {
      "cell_type": "code",
      "execution_count": 15,
      "metadata": {
        "colab": {
          "base_uri": "https://localhost:8080/"
        },
        "id": "frDftCBEFVvS",
        "outputId": "3966b900-4577-4a50-8f44-b2cabd549723"
      },
      "outputs": [
        {
          "name": "stdout",
          "output_type": "stream",
          "text": [
            "Hay 398 features con valores faltantes en el axis 1.\n",
            "Hay 1 features con valores faltantes en el axis 0.\n",
            "No hay valores faltantes en el axis 1\n",
            "No hay valores faltantes en el axis 0\n"
          ]
        }
      ],
      "source": [
        "## Buscamos filas con registros faltanes.\n",
        "buscar_valores_faltantes(data_cuantitativa, 1)\n",
        "## Buscamos columnas con registros faltantes.\n",
        "buscar_valores_faltantes(data_cuantitativa, 0)\n",
        "## Eliminamos las filas con valores faltantes.\n",
        "data_cuantitativa=data_cuantitativa.dropna()\n",
        "## Validamos limpieza\n",
        "buscar_valores_faltantes(data_cuantitativa, 1)\n",
        "## Validamos limpieza\n",
        "buscar_valores_faltantes(data_cuantitativa, 0)"
      ]
    },
    {
      "cell_type": "code",
      "execution_count": 34,
      "metadata": {
        "colab": {
          "base_uri": "https://localhost:8080/"
        },
        "id": "5QDEjOZoHmos",
        "outputId": "112002a5-c85a-40e7-8ca1-1e46c9a34c0b"
      },
      "outputs": [
        {
          "name": "stderr",
          "output_type": "stream",
          "text": [
            "<ipython-input-34-33c1343f89db>:1: SettingWithCopyWarning: \n",
            "A value is trying to be set on a copy of a slice from a DataFrame.\n",
            "Try using .loc[row_indexer,col_indexer] = value instead\n",
            "\n",
            "See the caveats in the documentation: https://pandas.pydata.org/pandas-docs/stable/user_guide/indexing.html#returning-a-view-versus-a-copy\n",
            "  data_cuantitativa['MODELO_VEHICULO'] = data_cuantitativa['MODELO_VEHICULO'].astype(int) # convertimos todo a un solo tipo de dato int\n"
          ]
        }
      ],
      "source": [
        "data_cuantitativa['MODELO_VEHICULO'] = data_cuantitativa['MODELO_VEHICULO'].astype(int) # convertimos todo a un solo tipo de dato int"
      ]
    },
    {
      "cell_type": "code",
      "execution_count": 35,
      "metadata": {
        "colab": {
          "base_uri": "https://localhost:8080/",
          "height": 300
        },
        "id": "8nHmB6__H04p",
        "outputId": "6266cbb6-0021-4932-dd2f-b20503e8611a"
      },
      "outputs": [
        {
          "data": {
            "text/html": [
              "\n",
              "  <div id=\"df-f6b26c93-bc15-4c90-bdb5-ced76f7b217a\">\n",
              "    <div class=\"colab-df-container\">\n",
              "      <div>\n",
              "<style scoped>\n",
              "    .dataframe tbody tr th:only-of-type {\n",
              "        vertical-align: middle;\n",
              "    }\n",
              "\n",
              "    .dataframe tbody tr th {\n",
              "        vertical-align: top;\n",
              "    }\n",
              "\n",
              "    .dataframe thead th {\n",
              "        text-align: right;\n",
              "    }\n",
              "</style>\n",
              "<table border=\"1\" class=\"dataframe\">\n",
              "  <thead>\n",
              "    <tr style=\"text-align: right;\">\n",
              "      <th></th>\n",
              "      <th>MODELO_VEHICULO</th>\n",
              "      <th>AÑO</th>\n",
              "      <th>MES</th>\n",
              "      <th>DÍA NUMERO</th>\n",
              "      <th>HORA</th>\n",
              "    </tr>\n",
              "  </thead>\n",
              "  <tbody>\n",
              "    <tr>\n",
              "      <th>count</th>\n",
              "      <td>102579.000000</td>\n",
              "      <td>102579.000000</td>\n",
              "      <td>102579.000000</td>\n",
              "      <td>102579.000000</td>\n",
              "      <td>102579.000000</td>\n",
              "    </tr>\n",
              "    <tr>\n",
              "      <th>mean</th>\n",
              "      <td>2008.588658</td>\n",
              "      <td>2016.690765</td>\n",
              "      <td>6.016972</td>\n",
              "      <td>15.623870</td>\n",
              "      <td>13.793389</td>\n",
              "    </tr>\n",
              "    <tr>\n",
              "      <th>std</th>\n",
              "      <td>6.366719</td>\n",
              "      <td>0.724679</td>\n",
              "      <td>3.413743</td>\n",
              "      <td>8.751982</td>\n",
              "      <td>4.715625</td>\n",
              "    </tr>\n",
              "    <tr>\n",
              "      <th>min</th>\n",
              "      <td>1950.000000</td>\n",
              "      <td>2016.000000</td>\n",
              "      <td>1.000000</td>\n",
              "      <td>1.000000</td>\n",
              "      <td>0.000000</td>\n",
              "    </tr>\n",
              "    <tr>\n",
              "      <th>25%</th>\n",
              "      <td>2005.000000</td>\n",
              "      <td>2016.000000</td>\n",
              "      <td>3.000000</td>\n",
              "      <td>8.000000</td>\n",
              "      <td>10.000000</td>\n",
              "    </tr>\n",
              "    <tr>\n",
              "      <th>50%</th>\n",
              "      <td>2010.000000</td>\n",
              "      <td>2017.000000</td>\n",
              "      <td>6.000000</td>\n",
              "      <td>16.000000</td>\n",
              "      <td>14.000000</td>\n",
              "    </tr>\n",
              "    <tr>\n",
              "      <th>75%</th>\n",
              "      <td>2013.000000</td>\n",
              "      <td>2017.000000</td>\n",
              "      <td>9.000000</td>\n",
              "      <td>23.000000</td>\n",
              "      <td>18.000000</td>\n",
              "    </tr>\n",
              "    <tr>\n",
              "      <th>max</th>\n",
              "      <td>2018.000000</td>\n",
              "      <td>2018.000000</td>\n",
              "      <td>12.000000</td>\n",
              "      <td>31.000000</td>\n",
              "      <td>23.000000</td>\n",
              "    </tr>\n",
              "  </tbody>\n",
              "</table>\n",
              "</div>\n",
              "      <button class=\"colab-df-convert\" onclick=\"convertToInteractive('df-f6b26c93-bc15-4c90-bdb5-ced76f7b217a')\"\n",
              "              title=\"Convert this dataframe to an interactive table.\"\n",
              "              style=\"display:none;\">\n",
              "        \n",
              "  <svg xmlns=\"http://www.w3.org/2000/svg\" height=\"24px\"viewBox=\"0 0 24 24\"\n",
              "       width=\"24px\">\n",
              "    <path d=\"M0 0h24v24H0V0z\" fill=\"none\"/>\n",
              "    <path d=\"M18.56 5.44l.94 2.06.94-2.06 2.06-.94-2.06-.94-.94-2.06-.94 2.06-2.06.94zm-11 1L8.5 8.5l.94-2.06 2.06-.94-2.06-.94L8.5 2.5l-.94 2.06-2.06.94zm10 10l.94 2.06.94-2.06 2.06-.94-2.06-.94-.94-2.06-.94 2.06-2.06.94z\"/><path d=\"M17.41 7.96l-1.37-1.37c-.4-.4-.92-.59-1.43-.59-.52 0-1.04.2-1.43.59L10.3 9.45l-7.72 7.72c-.78.78-.78 2.05 0 2.83L4 21.41c.39.39.9.59 1.41.59.51 0 1.02-.2 1.41-.59l7.78-7.78 2.81-2.81c.8-.78.8-2.07 0-2.86zM5.41 20L4 18.59l7.72-7.72 1.47 1.35L5.41 20z\"/>\n",
              "  </svg>\n",
              "      </button>\n",
              "      \n",
              "  <style>\n",
              "    .colab-df-container {\n",
              "      display:flex;\n",
              "      flex-wrap:wrap;\n",
              "      gap: 12px;\n",
              "    }\n",
              "\n",
              "    .colab-df-convert {\n",
              "      background-color: #E8F0FE;\n",
              "      border: none;\n",
              "      border-radius: 50%;\n",
              "      cursor: pointer;\n",
              "      display: none;\n",
              "      fill: #1967D2;\n",
              "      height: 32px;\n",
              "      padding: 0 0 0 0;\n",
              "      width: 32px;\n",
              "    }\n",
              "\n",
              "    .colab-df-convert:hover {\n",
              "      background-color: #E2EBFA;\n",
              "      box-shadow: 0px 1px 2px rgba(60, 64, 67, 0.3), 0px 1px 3px 1px rgba(60, 64, 67, 0.15);\n",
              "      fill: #174EA6;\n",
              "    }\n",
              "\n",
              "    [theme=dark] .colab-df-convert {\n",
              "      background-color: #3B4455;\n",
              "      fill: #D2E3FC;\n",
              "    }\n",
              "\n",
              "    [theme=dark] .colab-df-convert:hover {\n",
              "      background-color: #434B5C;\n",
              "      box-shadow: 0px 1px 3px 1px rgba(0, 0, 0, 0.15);\n",
              "      filter: drop-shadow(0px 1px 2px rgba(0, 0, 0, 0.3));\n",
              "      fill: #FFFFFF;\n",
              "    }\n",
              "  </style>\n",
              "\n",
              "      <script>\n",
              "        const buttonEl =\n",
              "          document.querySelector('#df-f6b26c93-bc15-4c90-bdb5-ced76f7b217a button.colab-df-convert');\n",
              "        buttonEl.style.display =\n",
              "          google.colab.kernel.accessAllowed ? 'block' : 'none';\n",
              "\n",
              "        async function convertToInteractive(key) {\n",
              "          const element = document.querySelector('#df-f6b26c93-bc15-4c90-bdb5-ced76f7b217a');\n",
              "          const dataTable =\n",
              "            await google.colab.kernel.invokeFunction('convertToInteractive',\n",
              "                                                     [key], {});\n",
              "          if (!dataTable) return;\n",
              "\n",
              "          const docLinkHtml = 'Like what you see? Visit the ' +\n",
              "            '<a target=\"_blank\" href=https://colab.research.google.com/notebooks/data_table.ipynb>data table notebook</a>'\n",
              "            + ' to learn more about interactive tables.';\n",
              "          element.innerHTML = '';\n",
              "          dataTable['output_type'] = 'display_data';\n",
              "          await google.colab.output.renderOutput(dataTable, element);\n",
              "          const docLink = document.createElement('div');\n",
              "          docLink.innerHTML = docLinkHtml;\n",
              "          element.appendChild(docLink);\n",
              "        }\n",
              "      </script>\n",
              "    </div>\n",
              "  </div>\n",
              "  "
            ],
            "text/plain": [
              "       MODELO_VEHICULO            AÑO            MES     DÍA NUMERO  \\\n",
              "count    102579.000000  102579.000000  102579.000000  102579.000000   \n",
              "mean       2008.588658    2016.690765       6.016972      15.623870   \n",
              "std           6.366719       0.724679       3.413743       8.751982   \n",
              "min        1950.000000    2016.000000       1.000000       1.000000   \n",
              "25%        2005.000000    2016.000000       3.000000       8.000000   \n",
              "50%        2010.000000    2017.000000       6.000000      16.000000   \n",
              "75%        2013.000000    2017.000000       9.000000      23.000000   \n",
              "max        2018.000000    2018.000000      12.000000      31.000000   \n",
              "\n",
              "                HORA  \n",
              "count  102579.000000  \n",
              "mean       13.793389  \n",
              "std         4.715625  \n",
              "min         0.000000  \n",
              "25%        10.000000  \n",
              "50%        14.000000  \n",
              "75%        18.000000  \n",
              "max        23.000000  "
            ]
          },
          "execution_count": 35,
          "metadata": {},
          "output_type": "execute_result"
        }
      ],
      "source": [
        "data_cuantitativa.describe()"
      ]
    },
    {
      "cell_type": "code",
      "execution_count": 38,
      "metadata": {
        "colab": {
          "base_uri": "https://localhost:8080/",
          "height": 992
        },
        "id": "Oxr7ZJEbrTWk",
        "outputId": "ba08b3f8-252e-416b-d659-5a47e4464c67"
      },
      "outputs": [
        {
          "data": {
            "image/png": "[encoded data removed]",
            "text/plain": [
              "<Figure size 2300x1500 with 5 Axes>"
            ]
          },
          "metadata": {},
          "output_type": "display_data"
        }
      ],
      "source": [
        "fig, axes = plt.subplots(2, 3, figsize=(23, 15))\n",
        "i, j = (0, 0)\n",
        "for col in data_cuantitativa.columns:\n",
        "  if col != 'FOLIO_ID':\n",
        "    sns.histplot(data=data_cuantitativa[col], ax=axes[i,j])\n",
        "    j += 1\n",
        "    if j == 3:\n",
        "      i += 1\n",
        "      j = 0\n",
        "axes[1,2].remove()"
      ]
    },
    {
      "attachments": {},
      "cell_type": "markdown",
      "metadata": {
        "id": "rLY9MeVeJroW"
      },
      "source": [
        "Los gráficos anteriores se pueden visualizar correctamente, pero utilizando una herramienta cómo Tableau o LookerStudio podemos mejorarlos."
      ]
    },
    {
      "cell_type": "code",
      "execution_count": 39,
      "metadata": {
        "colab": {
          "base_uri": "https://localhost:8080/",
          "height": 756
        },
        "id": "dzmV_-5_rVBt",
        "outputId": "74496f98-7911-43a6-d7f0-32162ebefbe3"
      },
      "outputs": [
        {
          "name": "stderr",
          "output_type": "stream",
          "text": [
            "<ipython-input-39-570cad1337e7>:2: FutureWarning: The default value of numeric_only in DataFrame.corr is deprecated. In a future version, it will default to False. Select only valid columns or specify the value of numeric_only to silence this warning.\n",
            "  corr_matrix_pearson = data_cuantitativa.corr(method='pearson')\n"
          ]
        },
        {
          "data": {
            "image/png": "[encoded data removed]",
            "text/plain": [
              "<Figure size 1200x800 with 2 Axes>"
            ]
          },
          "metadata": {},
          "output_type": "display_data"
        }
      ],
      "source": [
        "## Graficamos los correlaciones\n",
        "corr_matrix_pearson = data_cuantitativa.corr(method='pearson')\n",
        "plt.figure(figsize=(12,8))\n",
        "ax = sns.heatmap(corr_matrix_pearson, vmax=1, square=True, annot=True, cmap='Blues')\n",
        "plt.title('Correlacion entre variables cuantitativas')\n",
        "plt.show()"
      ]
    },
    {
      "cell_type": "code",
      "execution_count": null,
      "metadata": {
        "id": "lPISSKoMLG3f"
      },
      "outputs": [],
      "source": []
    }
  ],
  "metadata": {
    "colab": {
      "provenance": []
    },
    "kernelspec": {
      "display_name": "Python 3",
      "name": "python3"
    },
    "language_info": {
      "codemirror_mode": {
        "name": "ipython",
        "version": 3
      },
      "file_extension": ".py",
      "mimetype": "text/x-python",
      "name": "python",
      "nbconvert_exporter": "python",
      "pygments_lexer": "ipython3",
      "version": "3.11.3"
    }
  },
  "nbformat": 4,
  "nbformat_minor": 0
}
