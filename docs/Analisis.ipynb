{
  "cells": [
    {
      "attachments": {},
      "cell_type": "markdown",
      "metadata": {
        "id": "IPpzNKb8iTRC"
      },
      "source": [
        "# 2. Entendimiento de los Datos"
      ]
    },
    {
      "cell_type": "code",
      "execution_count": 1,
      "metadata": {
        "id": "4acZQ4b2xM8k"
      },
      "outputs": [],
      "source": [
        "## Importamos librerias\n",
        "import pandas as pd\n",
        "import numpy as np\n",
        "import matplotlib.pyplot as plt\n",
        "import seaborn as sns\n",
        "#from fuzzywuzzy import fuzz\n",
        "#from fuzzywuzzy import process\n",
        "import re"
      ]
    },
    {
      "cell_type": "code",
      "execution_count": 2,
      "metadata": {
        "id": "oB3LFYBxho9K"
      },
      "outputs": [],
      "source": [
        "# Load Datlas Data\n",
        "data_datlas = pd.read_excel('../data/data_datlas.xlsx')"
      ]
    },
    {
      "cell_type": "code",
      "execution_count": 3,
      "metadata": {
        "id": "Ok_H_OcodJV_"
      },
      "outputs": [
        {
          "data": {
            "text/html": [
              "<div>\n",
              "<style scoped>\n",
              "    .dataframe tbody tr th:only-of-type {\n",
              "        vertical-align: middle;\n",
              "    }\n",
              "\n",
              "    .dataframe tbody tr th {\n",
              "        vertical-align: top;\n",
              "    }\n",
              "\n",
              "    .dataframe thead th {\n",
              "        text-align: right;\n",
              "    }\n",
              "</style>\n",
              "<table border=\"1\" class=\"dataframe\">\n",
              "  <thead>\n",
              "    <tr style=\"text-align: right;\">\n",
              "      <th></th>\n",
              "      <th>Date</th>\n",
              "      <th>TAVG (Degrees Fahrenheit)</th>\n",
              "      <th>TMAX (Degrees Fahrenheit)</th>\n",
              "      <th>TMIN (Degrees Fahrenheit)</th>\n",
              "      <th>PRCP (Inches)</th>\n",
              "      <th>SNOW (Inches)</th>\n",
              "      <th>SNWD (Inches)</th>\n",
              "    </tr>\n",
              "  </thead>\n",
              "  <tbody>\n",
              "    <tr>\n",
              "      <th>0</th>\n",
              "      <td>15/03/1977</td>\n",
              "      <td>76.0</td>\n",
              "      <td>91.0</td>\n",
              "      <td>57.0</td>\n",
              "      <td>0.0</td>\n",
              "      <td>NaN</td>\n",
              "      <td>NaN</td>\n",
              "    </tr>\n",
              "    <tr>\n",
              "      <th>1</th>\n",
              "      <td>18/03/1977</td>\n",
              "      <td>81.0</td>\n",
              "      <td>NaN</td>\n",
              "      <td>NaN</td>\n",
              "      <td>0.0</td>\n",
              "      <td>NaN</td>\n",
              "      <td>NaN</td>\n",
              "    </tr>\n",
              "    <tr>\n",
              "      <th>2</th>\n",
              "      <td>21/03/1977</td>\n",
              "      <td>71.0</td>\n",
              "      <td>NaN</td>\n",
              "      <td>NaN</td>\n",
              "      <td>0.0</td>\n",
              "      <td>NaN</td>\n",
              "      <td>NaN</td>\n",
              "    </tr>\n",
              "  </tbody>\n",
              "</table>\n",
              "</div>"
            ],
            "text/plain": [
              "         Date  TAVG (Degrees Fahrenheit)  TMAX (Degrees Fahrenheit)   \n",
              "0  15/03/1977                       76.0                       91.0  \\\n",
              "1  18/03/1977                       81.0                        NaN   \n",
              "2  21/03/1977                       71.0                        NaN   \n",
              "\n",
              "   TMIN (Degrees Fahrenheit)  PRCP (Inches)  SNOW (Inches)  SNWD (Inches)  \n",
              "0                       57.0            0.0            NaN            NaN  \n",
              "1                        NaN            0.0            NaN            NaN  \n",
              "2                        NaN            0.0            NaN            NaN  "
            ]
          },
          "execution_count": 3,
          "metadata": {},
          "output_type": "execute_result"
        }
      ],
      "source": [
        "# Load Weather Data\n",
        "# Source: https://www.ncei.noaa.gov/access/past-weather/Monterrey%2C%20Nuevo%20Le%C3%B3n, \n",
        "# tomemos la precipitación de Monterrey como si fuera del estado.\n",
        "data_weather = pd.read_csv('../data/data_weather.csv')\n",
        "data_weather.head(3)"
      ]
    },
    {
      "attachments": {},
      "cell_type": "markdown",
      "metadata": {
        "id": "q7fU2UlijfwN"
      },
      "source": [
        "## 2.1 Contexto de los Datos"
      ]
    },
    {
      "cell_type": "code",
      "execution_count": 4,
      "metadata": {
        "colab": {
          "base_uri": "https://localhost:8080/",
          "height": 461
        },
        "id": "iG7dlUwzi9hu",
        "outputId": "5f998985-a105-402b-cb1f-89d86ce91389"
      },
      "outputs": [
        {
          "data": {
            "text/html": [
              "<div>\n",
              "<style scoped>\n",
              "    .dataframe tbody tr th:only-of-type {\n",
              "        vertical-align: middle;\n",
              "    }\n",
              "\n",
              "    .dataframe tbody tr th {\n",
              "        vertical-align: top;\n",
              "    }\n",
              "\n",
              "    .dataframe thead th {\n",
              "        text-align: right;\n",
              "    }\n",
              "</style>\n",
              "<table border=\"1\" class=\"dataframe\">\n",
              "  <thead>\n",
              "    <tr style=\"text-align: right;\">\n",
              "      <th></th>\n",
              "      <th>FOLIO_ID</th>\n",
              "      <th>LAT</th>\n",
              "      <th>LONG</th>\n",
              "      <th>CODIGO POSTAL</th>\n",
              "      <th>CALLE</th>\n",
              "      <th>COLONIA</th>\n",
              "      <th>CAUSA SINIESTRO</th>\n",
              "      <th>TIPO VEHICULO</th>\n",
              "      <th>COLOR</th>\n",
              "      <th>MODELO_VEHICULO</th>\n",
              "      <th>NIVEL DAÑO VEHICULO</th>\n",
              "      <th>PUNTO DE IMPACTO</th>\n",
              "      <th>AÑO</th>\n",
              "      <th>MES</th>\n",
              "      <th>DÍA NUMERO</th>\n",
              "      <th>DIA</th>\n",
              "      <th>HORA</th>\n",
              "      <th>ESTADO</th>\n",
              "      <th>CIUDAD_APROXIMADA</th>\n",
              "      <th>DATE</th>\n",
              "    </tr>\n",
              "  </thead>\n",
              "  <tbody>\n",
              "    <tr>\n",
              "      <th>0</th>\n",
              "      <td>D00001</td>\n",
              "      <td>22.768507</td>\n",
              "      <td>-102.567896</td>\n",
              "      <td>98000</td>\n",
              "      <td>*EP 2 Boulevard Adolfo López Mateos</td>\n",
              "      <td>CERRADA DE CASA BLANCA</td>\n",
              "      <td>COLISION Y/O VUELCO</td>\n",
              "      <td>Camión</td>\n",
              "      <td>BLANCO</td>\n",
              "      <td>2016</td>\n",
              "      <td>Bajo</td>\n",
              "      <td>NaN</td>\n",
              "      <td>2018</td>\n",
              "      <td>1</td>\n",
              "      <td>11</td>\n",
              "      <td>JUEVES</td>\n",
              "      <td>15</td>\n",
              "      <td>NUEVO LEÓN</td>\n",
              "      <td>SAN NICOLAS DE LOS GARZA</td>\n",
              "      <td>2018-01-11</td>\n",
              "    </tr>\n",
              "    <tr>\n",
              "      <th>1</th>\n",
              "      <td>D00002</td>\n",
              "      <td>25.647351</td>\n",
              "      <td>-100.140132</td>\n",
              "      <td>67277</td>\n",
              "      <td>AMERICA 65</td>\n",
              "      <td>BALCONES DE ZINDARO</td>\n",
              "      <td>COLISION Y/O VUELCO</td>\n",
              "      <td>Camión</td>\n",
              "      <td>BLANCO</td>\n",
              "      <td>2009</td>\n",
              "      <td>Sin daño</td>\n",
              "      <td>Costado izq trasero</td>\n",
              "      <td>2018</td>\n",
              "      <td>1</td>\n",
              "      <td>25</td>\n",
              "      <td>JUEVES</td>\n",
              "      <td>10</td>\n",
              "      <td>NUEVO LEÓN</td>\n",
              "      <td>JUAREZ</td>\n",
              "      <td>2018-01-25</td>\n",
              "    </tr>\n",
              "    <tr>\n",
              "      <th>2</th>\n",
              "      <td>D00003</td>\n",
              "      <td>20.679917</td>\n",
              "      <td>-103.368657</td>\n",
              "      <td>44600</td>\n",
              "      <td>AV MEXICO</td>\n",
              "      <td>2 RIOS</td>\n",
              "      <td>COLISION Y/O VUELCO</td>\n",
              "      <td>Auto</td>\n",
              "      <td>BLANCO</td>\n",
              "      <td>2005</td>\n",
              "      <td>Sin daño</td>\n",
              "      <td>Trasero</td>\n",
              "      <td>2018</td>\n",
              "      <td>1</td>\n",
              "      <td>15</td>\n",
              "      <td>LUNES</td>\n",
              "      <td>9</td>\n",
              "      <td>NUEVO LEÓN</td>\n",
              "      <td>GUADALUPE</td>\n",
              "      <td>2018-01-15</td>\n",
              "    </tr>\n",
              "    <tr>\n",
              "      <th>3</th>\n",
              "      <td>D00004</td>\n",
              "      <td>25.718027</td>\n",
              "      <td>-100.249990</td>\n",
              "      <td>66480</td>\n",
              "      <td>Avenida Conductores</td>\n",
              "      <td>Conductores Infonavit</td>\n",
              "      <td>COLISION Y/O VUELCO</td>\n",
              "      <td>Auto</td>\n",
              "      <td>GRIS</td>\n",
              "      <td>2016</td>\n",
              "      <td>Sin daño</td>\n",
              "      <td>Frontal</td>\n",
              "      <td>2018</td>\n",
              "      <td>1</td>\n",
              "      <td>19</td>\n",
              "      <td>VIERNES</td>\n",
              "      <td>9</td>\n",
              "      <td>NUEVO LEÓN</td>\n",
              "      <td>SAN NICOLAS DE LOS GARZA</td>\n",
              "      <td>2018-01-19</td>\n",
              "    </tr>\n",
              "    <tr>\n",
              "      <th>4</th>\n",
              "      <td>D00005</td>\n",
              "      <td>19.266303</td>\n",
              "      <td>-99.331791</td>\n",
              "      <td>\\N</td>\n",
              "      <td>UBERP3</td>\n",
              "      <td>Cuajimalpa</td>\n",
              "      <td>HUELGAS Y ALBOROTOS</td>\n",
              "      <td>Auto</td>\n",
              "      <td>NEGRO</td>\n",
              "      <td>2016</td>\n",
              "      <td>Medio</td>\n",
              "      <td>NaN</td>\n",
              "      <td>2018</td>\n",
              "      <td>1</td>\n",
              "      <td>3</td>\n",
              "      <td>MIERCOLES</td>\n",
              "      <td>16</td>\n",
              "      <td>NUEVO LEÓN</td>\n",
              "      <td>MONTERREY</td>\n",
              "      <td>2018-01-03</td>\n",
              "    </tr>\n",
              "  </tbody>\n",
              "</table>\n",
              "</div>"
            ],
            "text/plain": [
              "  FOLIO_ID        LAT        LONG CODIGO POSTAL   \n",
              "0   D00001  22.768507 -102.567896         98000  \\\n",
              "1   D00002  25.647351 -100.140132         67277   \n",
              "2   D00003  20.679917 -103.368657         44600   \n",
              "3   D00004  25.718027 -100.249990         66480   \n",
              "4   D00005  19.266303  -99.331791            \\N   \n",
              "\n",
              "                                 CALLE                 COLONIA   \n",
              "0  *EP 2 Boulevard Adolfo López Mateos  CERRADA DE CASA BLANCA  \\\n",
              "1                           AMERICA 65     BALCONES DE ZINDARO   \n",
              "2                            AV MEXICO                  2 RIOS   \n",
              "3                  Avenida Conductores   Conductores Infonavit   \n",
              "4                               UBERP3              Cuajimalpa   \n",
              "\n",
              "       CAUSA SINIESTRO TIPO VEHICULO   COLOR MODELO_VEHICULO   \n",
              "0  COLISION Y/O VUELCO        Camión  BLANCO            2016  \\\n",
              "1  COLISION Y/O VUELCO        Camión  BLANCO            2009   \n",
              "2  COLISION Y/O VUELCO          Auto  BLANCO            2005   \n",
              "3  COLISION Y/O VUELCO          Auto    GRIS            2016   \n",
              "4  HUELGAS Y ALBOROTOS          Auto   NEGRO            2016   \n",
              "\n",
              "  NIVEL DAÑO VEHICULO     PUNTO DE IMPACTO   AÑO  MES  DÍA NUMERO        DIA   \n",
              "0                Bajo                  NaN  2018    1          11     JUEVES  \\\n",
              "1            Sin daño  Costado izq trasero  2018    1          25     JUEVES   \n",
              "2            Sin daño              Trasero  2018    1          15      LUNES   \n",
              "3            Sin daño              Frontal  2018    1          19    VIERNES   \n",
              "4               Medio                  NaN  2018    1           3  MIERCOLES   \n",
              "\n",
              "   HORA      ESTADO         CIUDAD_APROXIMADA       DATE  \n",
              "0    15  NUEVO LEÓN  SAN NICOLAS DE LOS GARZA 2018-01-11  \n",
              "1    10  NUEVO LEÓN                    JUAREZ 2018-01-25  \n",
              "2     9  NUEVO LEÓN                 GUADALUPE 2018-01-15  \n",
              "3     9  NUEVO LEÓN  SAN NICOLAS DE LOS GARZA 2018-01-19  \n",
              "4    16  NUEVO LEÓN                 MONTERREY 2018-01-03  "
            ]
          },
          "execution_count": 4,
          "metadata": {},
          "output_type": "execute_result"
        }
      ],
      "source": [
        "data_datlas.head()"
      ]
    },
    {
      "cell_type": "code",
      "execution_count": 5,
      "metadata": {
        "colab": {
          "base_uri": "https://localhost:8080/"
        },
        "id": "OAIVICbKjI2X",
        "outputId": "053499b4-b765-49a5-fa84-9c00d2b79a15"
      },
      "outputs": [
        {
          "name": "stdout",
          "output_type": "stream",
          "text": [
            "<class 'pandas.core.frame.DataFrame'>\n",
            "RangeIndex: 116011 entries, 0 to 116010\n",
            "Data columns (total 20 columns):\n",
            " #   Column               Non-Null Count   Dtype         \n",
            "---  ------               --------------   -----         \n",
            " 0   FOLIO_ID             116011 non-null  object        \n",
            " 1   LAT                  113854 non-null  float64       \n",
            " 2   LONG                 113854 non-null  float64       \n",
            " 3   CODIGO POSTAL        115926 non-null  object        \n",
            " 4   CALLE                116011 non-null  object        \n",
            " 5   COLONIA              115921 non-null  object        \n",
            " 6   CAUSA SINIESTRO      116011 non-null  object        \n",
            " 7   TIPO VEHICULO        115917 non-null  object        \n",
            " 8   COLOR                115852 non-null  object        \n",
            " 9   MODELO_VEHICULO      115925 non-null  object        \n",
            " 10  NIVEL DAÑO VEHICULO  115088 non-null  object        \n",
            " 11  PUNTO DE IMPACTO     104932 non-null  object        \n",
            " 12  AÑO                  116011 non-null  int64         \n",
            " 13  MES                  116011 non-null  int64         \n",
            " 14  DÍA NUMERO           116011 non-null  int64         \n",
            " 15  DIA                  116011 non-null  object        \n",
            " 16  HORA                 116011 non-null  int64         \n",
            " 17  ESTADO               116011 non-null  object        \n",
            " 18  CIUDAD_APROXIMADA    116011 non-null  object        \n",
            " 19  DATE                 116011 non-null  datetime64[ns]\n",
            "dtypes: datetime64[ns](1), float64(2), int64(4), object(13)\n",
            "memory usage: 17.7+ MB\n"
          ]
        }
      ],
      "source": [
        "# Información general del dataframe\n",
        "data_datlas.info()"
      ]
    },
    {
      "attachments": {},
      "cell_type": "markdown",
      "metadata": {
        "id": "HNNoAeDpjwKQ"
      },
      "source": [
        "Tenemos un dataframe con 116,011 registros y 20 columnas, toda la data es referente a registros historicos sobre choques y siniestros de una aseguradora, las variables que tenemos son:\n",
        "\n",
        "**TIPOS DE DATO CATEGORICOS**\n",
        "\n",
        "- **FOLIO_ID (ordinal):** Es el id del registro.\n",
        "\n",
        "- **CODIGO POSTAL (nominal):** Designa un región geográfica.\n",
        "\n",
        "- **CALLE (nominal):** Representa la calle del siniestro.\n",
        "\n",
        "- **COLONIA (nominal):** Representa la colonia del incidente.\n",
        "\n",
        "- **CAUSA SINIESTRO (Nominal):** Causa principal del siniestro.\n",
        "\n",
        "- **TIPO VEHICULO (nominal):** Auto, Camión, Motocicleta, etc.\n",
        "\n",
        "- **COLOR (nominal):** Color del vehiculo.\n",
        "\n",
        "- **MODELO_VEHICULO (ordinal):** - Año del modelo de vehiculo. \n",
        "\n",
        "- **NIVEL DAÑO DEL VEHICULO (nominal):** Nivel de daño del vehiculo.\n",
        "\n",
        "- **PUNTO DE IMPACTO (nominal):** Punto de impacto en el siniestro.\n",
        "\n",
        "- **DIA (nominal):** Dia de la semana en que se dio el impacto.\n",
        "\n",
        "- **ESTADO (nominal):** Estado dentro de México donde se dio el impacto.\n",
        "\n",
        "- **CIUDAD_APROXIMADA (nominal):** Ciudad del Estado donde ocurrio el siniestro.\n",
        "\n",
        "**TIPOS DE DATO NÚMERICO**\n",
        "\n",
        "- **LAT (continuo):** Coordenada geográfica de Latitud.\n",
        "\n",
        "- **LONG (continuo):** Coordenada geográfica de Longitud.\n",
        "\n",
        "- **AÑO (discreto):** Año en que se dio el impacto.\n",
        "\n",
        "- **MES (discreto):** Mes en que se dio el impacto.\n",
        "\n",
        "- **DIA NÚMERO (discreto):** Dia de la semana en que se dio el impacto.\n",
        "\n",
        "- **HORA (discreto):** Hora en que se dio el impacto.\n",
        "\n",
        "**TIPO DE DATO DATETIME**\n",
        "\n",
        "- **DATE (datetime - categorico ordinal):** Representa la fecha del incidente."
      ]
    },
    {
      "attachments": {},
      "cell_type": "markdown",
      "metadata": {
        "id": "EJ7FbeWBrlFL"
      },
      "source": [
        "## 2.2 Revisar el Contexto **y** Calidad de los Datos"
      ]
    },
    {
      "cell_type": "code",
      "execution_count": 6,
      "metadata": {
        "colab": {
          "base_uri": "https://localhost:8080/",
          "height": 300
        },
        "id": "gvdH-MWqjRg7",
        "outputId": "c39d71af-e88a-4626-fbf8-95dc7d8d1938"
      },
      "outputs": [
        {
          "data": {
            "text/html": [
              "<div>\n",
              "<style scoped>\n",
              "    .dataframe tbody tr th:only-of-type {\n",
              "        vertical-align: middle;\n",
              "    }\n",
              "\n",
              "    .dataframe tbody tr th {\n",
              "        vertical-align: top;\n",
              "    }\n",
              "\n",
              "    .dataframe thead th {\n",
              "        text-align: right;\n",
              "    }\n",
              "</style>\n",
              "<table border=\"1\" class=\"dataframe\">\n",
              "  <thead>\n",
              "    <tr style=\"text-align: right;\">\n",
              "      <th></th>\n",
              "      <th>LAT</th>\n",
              "      <th>LONG</th>\n",
              "      <th>AÑO</th>\n",
              "      <th>MES</th>\n",
              "      <th>DÍA NUMERO</th>\n",
              "      <th>HORA</th>\n",
              "      <th>DATE</th>\n",
              "    </tr>\n",
              "  </thead>\n",
              "  <tbody>\n",
              "    <tr>\n",
              "      <th>count</th>\n",
              "      <td>113854.000000</td>\n",
              "      <td>113854.000000</td>\n",
              "      <td>116011.000000</td>\n",
              "      <td>116011.000000</td>\n",
              "      <td>116011.000000</td>\n",
              "      <td>116011.000000</td>\n",
              "      <td>116011</td>\n",
              "    </tr>\n",
              "    <tr>\n",
              "      <th>mean</th>\n",
              "      <td>23.526022</td>\n",
              "      <td>-91.821885</td>\n",
              "      <td>2016.678479</td>\n",
              "      <td>6.005560</td>\n",
              "      <td>15.595797</td>\n",
              "      <td>13.824836</td>\n",
              "      <td>2017-02-18 14:23:26.783839488</td>\n",
              "    </tr>\n",
              "    <tr>\n",
              "      <th>min</th>\n",
              "      <td>-13.520364</td>\n",
              "      <td>-117.019350</td>\n",
              "      <td>2016.000000</td>\n",
              "      <td>1.000000</td>\n",
              "      <td>1.000000</td>\n",
              "      <td>0.000000</td>\n",
              "      <td>2016-01-01 00:00:00</td>\n",
              "    </tr>\n",
              "    <tr>\n",
              "      <th>25%</th>\n",
              "      <td>25.653531</td>\n",
              "      <td>-100.346878</td>\n",
              "      <td>2016.000000</td>\n",
              "      <td>3.000000</td>\n",
              "      <td>8.000000</td>\n",
              "      <td>10.000000</td>\n",
              "      <td>2016-07-10 00:00:00</td>\n",
              "    </tr>\n",
              "    <tr>\n",
              "      <th>50%</th>\n",
              "      <td>25.686510</td>\n",
              "      <td>-100.289794</td>\n",
              "      <td>2017.000000</td>\n",
              "      <td>6.000000</td>\n",
              "      <td>15.000000</td>\n",
              "      <td>14.000000</td>\n",
              "      <td>2017-01-26 00:00:00</td>\n",
              "    </tr>\n",
              "    <tr>\n",
              "      <th>75%</th>\n",
              "      <td>25.734853</td>\n",
              "      <td>-100.214012</td>\n",
              "      <td>2017.000000</td>\n",
              "      <td>9.000000</td>\n",
              "      <td>23.000000</td>\n",
              "      <td>18.000000</td>\n",
              "      <td>2017-09-23 00:00:00</td>\n",
              "    </tr>\n",
              "    <tr>\n",
              "      <th>max</th>\n",
              "      <td>47.827586</td>\n",
              "      <td>35.167756</td>\n",
              "      <td>2018.000000</td>\n",
              "      <td>12.000000</td>\n",
              "      <td>31.000000</td>\n",
              "      <td>23.000000</td>\n",
              "      <td>2018-06-30 00:00:00</td>\n",
              "    </tr>\n",
              "    <tr>\n",
              "      <th>std</th>\n",
              "      <td>7.145716</td>\n",
              "      <td>27.876454</td>\n",
              "      <td>0.720202</td>\n",
              "      <td>3.406765</td>\n",
              "      <td>8.745570</td>\n",
              "      <td>4.741398</td>\n",
              "      <td>NaN</td>\n",
              "    </tr>\n",
              "  </tbody>\n",
              "</table>\n",
              "</div>"
            ],
            "text/plain": [
              "                 LAT           LONG            AÑO            MES   \n",
              "count  113854.000000  113854.000000  116011.000000  116011.000000  \\\n",
              "mean       23.526022     -91.821885    2016.678479       6.005560   \n",
              "min       -13.520364    -117.019350    2016.000000       1.000000   \n",
              "25%        25.653531    -100.346878    2016.000000       3.000000   \n",
              "50%        25.686510    -100.289794    2017.000000       6.000000   \n",
              "75%        25.734853    -100.214012    2017.000000       9.000000   \n",
              "max        47.827586      35.167756    2018.000000      12.000000   \n",
              "std         7.145716      27.876454       0.720202       3.406765   \n",
              "\n",
              "          DÍA NUMERO           HORA                           DATE  \n",
              "count  116011.000000  116011.000000                         116011  \n",
              "mean       15.595797      13.824836  2017-02-18 14:23:26.783839488  \n",
              "min         1.000000       0.000000            2016-01-01 00:00:00  \n",
              "25%         8.000000      10.000000            2016-07-10 00:00:00  \n",
              "50%        15.000000      14.000000            2017-01-26 00:00:00  \n",
              "75%        23.000000      18.000000            2017-09-23 00:00:00  \n",
              "max        31.000000      23.000000            2018-06-30 00:00:00  \n",
              "std         8.745570       4.741398                            NaN  "
            ]
          },
          "execution_count": 6,
          "metadata": {},
          "output_type": "execute_result"
        }
      ],
      "source": [
        "# Estadistica descriptiva\n",
        "data_datlas.describe()"
      ]
    },
    {
      "cell_type": "code",
      "execution_count": 7,
      "metadata": {
        "colab": {
          "base_uri": "https://localhost:8080/"
        },
        "id": "IbaptyMHrxgL",
        "outputId": "747247c3-75bd-4729-c59d-aab8d174a0df"
      },
      "outputs": [
        {
          "name": "stdout",
          "output_type": "stream",
          "text": [
            "Hay 13034 features con valores faltantes en el axis 1.\n"
          ]
        }
      ],
      "source": [
        "# Buscar valores faltaltes en las filas y columnas\n",
        "def buscar_valores_faltantes(data, eje):\n",
        "  valores_faltantes = data.isnull().any(axis=eje).sum()\n",
        "  if valores_faltantes > 0:\n",
        "    print(f\"Hay {valores_faltantes} features con valores faltantes en el axis {eje}.\")\n",
        "  else:\n",
        "    print(f\"No hay valores faltantes en el axis {eje}\")\n",
        "\n",
        "buscar_valores_faltantes(data_datlas, 1)"
      ]
    },
    {
      "cell_type": "code",
      "execution_count": 8,
      "metadata": {
        "colab": {
          "base_uri": "https://localhost:8080/"
        },
        "id": "Xnm0mZIKkrAX",
        "outputId": "931ab30c-f161-4318-ea73-5c4db0b0e638"
      },
      "outputs": [
        {
          "name": "stdout",
          "output_type": "stream",
          "text": [
            "FOLIO_ID               False\n",
            "LAT                     True\n",
            "LONG                    True\n",
            "CODIGO POSTAL           True\n",
            "CALLE                  False\n",
            "COLONIA                 True\n",
            "CAUSA SINIESTRO        False\n",
            "TIPO VEHICULO           True\n",
            "COLOR                   True\n",
            "MODELO_VEHICULO         True\n",
            "NIVEL DAÑO VEHICULO     True\n",
            "PUNTO DE IMPACTO        True\n",
            "AÑO                    False\n",
            "MES                    False\n",
            "DÍA NUMERO             False\n",
            "DIA                    False\n",
            "HORA                   False\n",
            "ESTADO                 False\n",
            "CIUDAD_APROXIMADA      False\n",
            "DATE                   False\n",
            "dtype: bool\n",
            "-------------------------------\n",
            "Hay 9 features con valores faltantes en el axis 0.\n"
          ]
        }
      ],
      "source": [
        "## ¿Qué columnas tienen valores faltantes?\n",
        "valores_faltantes_columnas=data_datlas.isnull().any(axis=0)\n",
        "print(valores_faltantes_columnas)\n",
        "print(\"-------------------------------\")\n",
        "buscar_valores_faltantes(data_datlas, 0)"
      ]
    },
    {
      "attachments": {},
      "cell_type": "markdown",
      "metadata": {
        "id": "HlZ5oasulwHU"
      },
      "source": [
        "Dado que tenemos 13,034 filas con valores faltantes en las columnas **LAT, LONG, CODIGO POSTAL, COLONIA, TIPO VEHICULO, COLOR, MODELO, NIVEL DE DAÑO y PUNTO DE IMPACTO**, a partir de aquí tomare la decisión de eliminar todas estás filas del dataframe porque son valores que generan ruido al análisis.\n",
        "\n",
        "Cabe mencionar que en otras circunstancias este tipo de valores faltantes se podría conseguir con ayuda de otra base de datos o con una API de geolocalización en el caso de los valores geográficos."
      ]
    },
    {
      "cell_type": "code",
      "execution_count": 9,
      "metadata": {
        "colab": {
          "base_uri": "https://localhost:8080/"
        },
        "id": "xQx3yUnnjtAC",
        "outputId": "f325527f-6cee-4905-fdac-a657b9b265bf"
      },
      "outputs": [
        {
          "name": "stdout",
          "output_type": "stream",
          "text": [
            "No hay valores faltantes en el axis 1\n",
            "No hay valores faltantes en el axis 0\n"
          ]
        }
      ],
      "source": [
        "## Eliminamos las filas con valores faltantes.\n",
        "data_datlas=data_datlas.dropna()\n",
        "## Buscamos filas con registros faltanes\n",
        "buscar_valores_faltantes(data_datlas, 1)\n",
        "## Buscamos columnas con registros faltantes\n",
        "buscar_valores_faltantes(data_datlas, 0)"
      ]
    },
    {
      "cell_type": "code",
      "execution_count": 10,
      "metadata": {
        "colab": {
          "base_uri": "https://localhost:8080/"
        },
        "id": "9ID9T1mFjO2U",
        "outputId": "ddc20e67-49c1-4e86-83fa-38461d12b80c"
      },
      "outputs": [
        {
          "name": "stdout",
          "output_type": "stream",
          "text": [
            "0 filas duplicadas.\n"
          ]
        }
      ],
      "source": [
        "# Buscando filas con valores duplicadas\n",
        "duplicados = data_datlas.duplicated()\n",
        "print(len(data_datlas[duplicados]), \"filas duplicadas.\")"
      ]
    },
    {
      "cell_type": "code",
      "execution_count": 11,
      "metadata": {
        "colab": {
          "base_uri": "https://localhost:8080/",
          "height": 862
        },
        "id": "oQPBhz6Ap7Rb",
        "outputId": "c1d56048-7aaa-4796-c23e-3dad30a070c8"
      },
      "outputs": [
        {
          "name": "stdout",
          "output_type": "stream",
          "text": [
            "<class 'pandas.core.frame.DataFrame'>\n",
            "Index: 102977 entries, 1 to 116010\n",
            "Data columns (total 20 columns):\n",
            " #   Column               Non-Null Count   Dtype         \n",
            "---  ------               --------------   -----         \n",
            " 0   FOLIO_ID             102977 non-null  object        \n",
            " 1   LAT                  102977 non-null  float64       \n",
            " 2   LONG                 102977 non-null  float64       \n",
            " 3   CODIGO POSTAL        102977 non-null  object        \n",
            " 4   CALLE                102977 non-null  object        \n",
            " 5   COLONIA              102977 non-null  object        \n",
            " 6   CAUSA SINIESTRO      102977 non-null  object        \n",
            " 7   TIPO VEHICULO        102977 non-null  object        \n",
            " 8   COLOR                102977 non-null  object        \n",
            " 9   MODELO_VEHICULO      102977 non-null  object        \n",
            " 10  NIVEL DAÑO VEHICULO  102977 non-null  object        \n",
            " 11  PUNTO DE IMPACTO     102977 non-null  object        \n",
            " 12  AÑO                  102977 non-null  int64         \n",
            " 13  MES                  102977 non-null  int64         \n",
            " 14  DÍA NUMERO           102977 non-null  int64         \n",
            " 15  DIA                  102977 non-null  object        \n",
            " 16  HORA                 102977 non-null  int64         \n",
            " 17  ESTADO               102977 non-null  object        \n",
            " 18  CIUDAD_APROXIMADA    102977 non-null  object        \n",
            " 19  DATE                 102977 non-null  datetime64[ns]\n",
            "dtypes: datetime64[ns](1), float64(2), int64(4), object(13)\n",
            "memory usage: 16.5+ MB\n",
            "None\n"
          ]
        },
        {
          "data": {
            "text/html": [
              "<div>\n",
              "<style scoped>\n",
              "    .dataframe tbody tr th:only-of-type {\n",
              "        vertical-align: middle;\n",
              "    }\n",
              "\n",
              "    .dataframe tbody tr th {\n",
              "        vertical-align: top;\n",
              "    }\n",
              "\n",
              "    .dataframe thead th {\n",
              "        text-align: right;\n",
              "    }\n",
              "</style>\n",
              "<table border=\"1\" class=\"dataframe\">\n",
              "  <thead>\n",
              "    <tr style=\"text-align: right;\">\n",
              "      <th></th>\n",
              "      <th>FOLIO_ID</th>\n",
              "      <th>LAT</th>\n",
              "      <th>LONG</th>\n",
              "      <th>CODIGO POSTAL</th>\n",
              "      <th>CALLE</th>\n",
              "      <th>COLONIA</th>\n",
              "      <th>CAUSA SINIESTRO</th>\n",
              "      <th>TIPO VEHICULO</th>\n",
              "      <th>COLOR</th>\n",
              "      <th>MODELO_VEHICULO</th>\n",
              "      <th>NIVEL DAÑO VEHICULO</th>\n",
              "      <th>PUNTO DE IMPACTO</th>\n",
              "      <th>AÑO</th>\n",
              "      <th>MES</th>\n",
              "      <th>DÍA NUMERO</th>\n",
              "      <th>DIA</th>\n",
              "      <th>HORA</th>\n",
              "      <th>ESTADO</th>\n",
              "      <th>CIUDAD_APROXIMADA</th>\n",
              "      <th>DATE</th>\n",
              "    </tr>\n",
              "  </thead>\n",
              "  <tbody>\n",
              "    <tr>\n",
              "      <th>1</th>\n",
              "      <td>D00002</td>\n",
              "      <td>25.647351</td>\n",
              "      <td>-100.140132</td>\n",
              "      <td>67277</td>\n",
              "      <td>AMERICA 65</td>\n",
              "      <td>BALCONES DE ZINDARO</td>\n",
              "      <td>COLISION Y/O VUELCO</td>\n",
              "      <td>Camión</td>\n",
              "      <td>BLANCO</td>\n",
              "      <td>2009</td>\n",
              "      <td>Sin daño</td>\n",
              "      <td>Costado izq trasero</td>\n",
              "      <td>2018</td>\n",
              "      <td>1</td>\n",
              "      <td>25</td>\n",
              "      <td>JUEVES</td>\n",
              "      <td>10</td>\n",
              "      <td>NUEVO LEÓN</td>\n",
              "      <td>JUAREZ</td>\n",
              "      <td>2018-01-25</td>\n",
              "    </tr>\n",
              "    <tr>\n",
              "      <th>2</th>\n",
              "      <td>D00003</td>\n",
              "      <td>20.679917</td>\n",
              "      <td>-103.368657</td>\n",
              "      <td>44600</td>\n",
              "      <td>AV MEXICO</td>\n",
              "      <td>2 RIOS</td>\n",
              "      <td>COLISION Y/O VUELCO</td>\n",
              "      <td>Auto</td>\n",
              "      <td>BLANCO</td>\n",
              "      <td>2005</td>\n",
              "      <td>Sin daño</td>\n",
              "      <td>Trasero</td>\n",
              "      <td>2018</td>\n",
              "      <td>1</td>\n",
              "      <td>15</td>\n",
              "      <td>LUNES</td>\n",
              "      <td>9</td>\n",
              "      <td>NUEVO LEÓN</td>\n",
              "      <td>GUADALUPE</td>\n",
              "      <td>2018-01-15</td>\n",
              "    </tr>\n",
              "    <tr>\n",
              "      <th>3</th>\n",
              "      <td>D00004</td>\n",
              "      <td>25.718027</td>\n",
              "      <td>-100.249990</td>\n",
              "      <td>66480</td>\n",
              "      <td>Avenida Conductores</td>\n",
              "      <td>Conductores Infonavit</td>\n",
              "      <td>COLISION Y/O VUELCO</td>\n",
              "      <td>Auto</td>\n",
              "      <td>GRIS</td>\n",
              "      <td>2016</td>\n",
              "      <td>Sin daño</td>\n",
              "      <td>Frontal</td>\n",
              "      <td>2018</td>\n",
              "      <td>1</td>\n",
              "      <td>19</td>\n",
              "      <td>VIERNES</td>\n",
              "      <td>9</td>\n",
              "      <td>NUEVO LEÓN</td>\n",
              "      <td>SAN NICOLAS DE LOS GARZA</td>\n",
              "      <td>2018-01-19</td>\n",
              "    </tr>\n",
              "  </tbody>\n",
              "</table>\n",
              "</div>"
            ],
            "text/plain": [
              "  FOLIO_ID        LAT        LONG CODIGO POSTAL                CALLE   \n",
              "1   D00002  25.647351 -100.140132         67277           AMERICA 65  \\\n",
              "2   D00003  20.679917 -103.368657         44600            AV MEXICO   \n",
              "3   D00004  25.718027 -100.249990         66480  Avenida Conductores   \n",
              "\n",
              "                 COLONIA      CAUSA SINIESTRO TIPO VEHICULO   COLOR   \n",
              "1    BALCONES DE ZINDARO  COLISION Y/O VUELCO        Camión  BLANCO  \\\n",
              "2                 2 RIOS  COLISION Y/O VUELCO          Auto  BLANCO   \n",
              "3  Conductores Infonavit  COLISION Y/O VUELCO          Auto    GRIS   \n",
              "\n",
              "  MODELO_VEHICULO NIVEL DAÑO VEHICULO     PUNTO DE IMPACTO   AÑO  MES   \n",
              "1            2009            Sin daño  Costado izq trasero  2018    1  \\\n",
              "2            2005            Sin daño              Trasero  2018    1   \n",
              "3            2016            Sin daño              Frontal  2018    1   \n",
              "\n",
              "   DÍA NUMERO      DIA  HORA      ESTADO         CIUDAD_APROXIMADA       DATE  \n",
              "1          25   JUEVES    10  NUEVO LEÓN                    JUAREZ 2018-01-25  \n",
              "2          15    LUNES     9  NUEVO LEÓN                 GUADALUPE 2018-01-15  \n",
              "3          19  VIERNES     9  NUEVO LEÓN  SAN NICOLAS DE LOS GARZA 2018-01-19  "
            ]
          },
          "execution_count": 11,
          "metadata": {},
          "output_type": "execute_result"
        }
      ],
      "source": [
        "## Veamos nuevamente la información del dataframe\n",
        "print(data_datlas.info())\n",
        "data_datlas.head(3)"
      ]
    },
    {
      "cell_type": "code",
      "execution_count": 12,
      "metadata": {
        "colab": {
          "base_uri": "https://localhost:8080/",
          "height": 496
        },
        "id": "h-Wmh6Ivux0l",
        "outputId": "69431b64-fe59-4c37-d2e4-613f611367cc"
      },
      "outputs": [
        {
          "data": {
            "text/html": [
              "<div>\n",
              "<style scoped>\n",
              "    .dataframe tbody tr th:only-of-type {\n",
              "        vertical-align: middle;\n",
              "    }\n",
              "\n",
              "    .dataframe tbody tr th {\n",
              "        vertical-align: top;\n",
              "    }\n",
              "\n",
              "    .dataframe thead th {\n",
              "        text-align: right;\n",
              "    }\n",
              "</style>\n",
              "<table border=\"1\" class=\"dataframe\">\n",
              "  <thead>\n",
              "    <tr style=\"text-align: right;\">\n",
              "      <th></th>\n",
              "      <th>FOLIO_ID</th>\n",
              "      <th>LAT</th>\n",
              "      <th>LONG</th>\n",
              "      <th>CODIGO POSTAL</th>\n",
              "      <th>CALLE</th>\n",
              "      <th>COLONIA</th>\n",
              "      <th>CAUSA SINIESTRO</th>\n",
              "      <th>TIPO VEHICULO</th>\n",
              "      <th>COLOR</th>\n",
              "      <th>MODELO_VEHICULO</th>\n",
              "      <th>NIVEL DAÑO VEHICULO</th>\n",
              "      <th>PUNTO DE IMPACTO</th>\n",
              "      <th>AÑO</th>\n",
              "      <th>MES</th>\n",
              "      <th>DÍA NUMERO</th>\n",
              "      <th>DIA</th>\n",
              "      <th>HORA</th>\n",
              "      <th>ESTADO</th>\n",
              "      <th>CIUDAD_APROXIMADA</th>\n",
              "      <th>DATE</th>\n",
              "    </tr>\n",
              "  </thead>\n",
              "  <tbody>\n",
              "    <tr>\n",
              "      <th>1</th>\n",
              "      <td>D00002</td>\n",
              "      <td>25.647351</td>\n",
              "      <td>-100.140132</td>\n",
              "      <td>67277</td>\n",
              "      <td>AMERICA 65</td>\n",
              "      <td>BALCONES DE ZINDARO</td>\n",
              "      <td>COLISION Y/O VUELCO</td>\n",
              "      <td>Camión</td>\n",
              "      <td>BLANCO</td>\n",
              "      <td>2009</td>\n",
              "      <td>Sin daño</td>\n",
              "      <td>Costado izq trasero</td>\n",
              "      <td>2018</td>\n",
              "      <td>1</td>\n",
              "      <td>25</td>\n",
              "      <td>JUEVES</td>\n",
              "      <td>10</td>\n",
              "      <td>NUEVO LEÓN</td>\n",
              "      <td>JUAREZ</td>\n",
              "      <td>2018-01-25</td>\n",
              "    </tr>\n",
              "    <tr>\n",
              "      <th>2</th>\n",
              "      <td>D00003</td>\n",
              "      <td>20.679917</td>\n",
              "      <td>-103.368657</td>\n",
              "      <td>44600</td>\n",
              "      <td>AV MEXICO</td>\n",
              "      <td>2 RIOS</td>\n",
              "      <td>COLISION Y/O VUELCO</td>\n",
              "      <td>Auto</td>\n",
              "      <td>BLANCO</td>\n",
              "      <td>2005</td>\n",
              "      <td>Sin daño</td>\n",
              "      <td>Trasero</td>\n",
              "      <td>2018</td>\n",
              "      <td>1</td>\n",
              "      <td>15</td>\n",
              "      <td>LUNES</td>\n",
              "      <td>9</td>\n",
              "      <td>NUEVO LEÓN</td>\n",
              "      <td>GUADALUPE</td>\n",
              "      <td>2018-01-15</td>\n",
              "    </tr>\n",
              "    <tr>\n",
              "      <th>3</th>\n",
              "      <td>D00004</td>\n",
              "      <td>25.718027</td>\n",
              "      <td>-100.249990</td>\n",
              "      <td>66480</td>\n",
              "      <td>Avenida Conductores</td>\n",
              "      <td>Conductores Infonavit</td>\n",
              "      <td>COLISION Y/O VUELCO</td>\n",
              "      <td>Auto</td>\n",
              "      <td>GRIS</td>\n",
              "      <td>2016</td>\n",
              "      <td>Sin daño</td>\n",
              "      <td>Frontal</td>\n",
              "      <td>2018</td>\n",
              "      <td>1</td>\n",
              "      <td>19</td>\n",
              "      <td>VIERNES</td>\n",
              "      <td>9</td>\n",
              "      <td>NUEVO LEÓN</td>\n",
              "      <td>SAN NICOLAS DE LOS GARZA</td>\n",
              "      <td>2018-01-19</td>\n",
              "    </tr>\n",
              "    <tr>\n",
              "      <th>5</th>\n",
              "      <td>D00006</td>\n",
              "      <td>19.706476</td>\n",
              "      <td>-99.336598</td>\n",
              "      <td>54650</td>\n",
              "      <td>DUQUE DE BRAGANZA No.331</td>\n",
              "      <td>Santiago el Bajo** REL DE PALMAS</td>\n",
              "      <td>COLISION Y/O VUELCO</td>\n",
              "      <td>Auto</td>\n",
              "      <td>BLANCO</td>\n",
              "      <td>2007</td>\n",
              "      <td>Sin daño</td>\n",
              "      <td>Trasero</td>\n",
              "      <td>2018</td>\n",
              "      <td>1</td>\n",
              "      <td>11</td>\n",
              "      <td>JUEVES</td>\n",
              "      <td>21</td>\n",
              "      <td>NUEVO LEÓN</td>\n",
              "      <td>GENERAL ZUAZUA</td>\n",
              "      <td>2018-01-11</td>\n",
              "    </tr>\n",
              "    <tr>\n",
              "      <th>7</th>\n",
              "      <td>D00008</td>\n",
              "      <td>25.723590</td>\n",
              "      <td>-100.198780</td>\n",
              "      <td>67117</td>\n",
              "      <td>Boulevard Acapulco</td>\n",
              "      <td>REAL DE SAN MIGUEL</td>\n",
              "      <td>COLISION Y/O VUELCO</td>\n",
              "      <td>Auto</td>\n",
              "      <td>BLANCO</td>\n",
              "      <td>2000</td>\n",
              "      <td>Sin daño</td>\n",
              "      <td>Frontal</td>\n",
              "      <td>2018</td>\n",
              "      <td>1</td>\n",
              "      <td>29</td>\n",
              "      <td>LUNES</td>\n",
              "      <td>17</td>\n",
              "      <td>NUEVO LEÓN</td>\n",
              "      <td>GUADALUPE</td>\n",
              "      <td>2018-01-29</td>\n",
              "    </tr>\n",
              "  </tbody>\n",
              "</table>\n",
              "</div>"
            ],
            "text/plain": [
              "  FOLIO_ID        LAT        LONG CODIGO POSTAL                     CALLE   \n",
              "1   D00002  25.647351 -100.140132         67277                AMERICA 65  \\\n",
              "2   D00003  20.679917 -103.368657         44600                 AV MEXICO   \n",
              "3   D00004  25.718027 -100.249990         66480       Avenida Conductores   \n",
              "5   D00006  19.706476  -99.336598         54650  DUQUE DE BRAGANZA No.331   \n",
              "7   D00008  25.723590 -100.198780         67117        Boulevard Acapulco   \n",
              "\n",
              "                            COLONIA      CAUSA SINIESTRO TIPO VEHICULO   \n",
              "1               BALCONES DE ZINDARO  COLISION Y/O VUELCO        Camión  \\\n",
              "2                            2 RIOS  COLISION Y/O VUELCO          Auto   \n",
              "3             Conductores Infonavit  COLISION Y/O VUELCO          Auto   \n",
              "5  Santiago el Bajo** REL DE PALMAS  COLISION Y/O VUELCO          Auto   \n",
              "7                REAL DE SAN MIGUEL  COLISION Y/O VUELCO          Auto   \n",
              "\n",
              "    COLOR MODELO_VEHICULO NIVEL DAÑO VEHICULO     PUNTO DE IMPACTO   AÑO  MES   \n",
              "1  BLANCO            2009            Sin daño  Costado izq trasero  2018    1  \\\n",
              "2  BLANCO            2005            Sin daño              Trasero  2018    1   \n",
              "3    GRIS            2016            Sin daño              Frontal  2018    1   \n",
              "5  BLANCO            2007            Sin daño              Trasero  2018    1   \n",
              "7  BLANCO            2000            Sin daño              Frontal  2018    1   \n",
              "\n",
              "   DÍA NUMERO      DIA  HORA      ESTADO         CIUDAD_APROXIMADA       DATE  \n",
              "1          25   JUEVES    10  NUEVO LEÓN                    JUAREZ 2018-01-25  \n",
              "2          15    LUNES     9  NUEVO LEÓN                 GUADALUPE 2018-01-15  \n",
              "3          19  VIERNES     9  NUEVO LEÓN  SAN NICOLAS DE LOS GARZA 2018-01-19  \n",
              "5          11   JUEVES    21  NUEVO LEÓN            GENERAL ZUAZUA 2018-01-11  \n",
              "7          29    LUNES    17  NUEVO LEÓN                 GUADALUPE 2018-01-29  "
            ]
          },
          "execution_count": 12,
          "metadata": {},
          "output_type": "execute_result"
        }
      ],
      "source": [
        "## Reseteamos el indice\n",
        "data_datlas.reset_index()\n",
        "data_datlas.head()"
      ]
    },
    {
      "attachments": {},
      "cell_type": "markdown",
      "metadata": {
        "id": "3fjbatgIMiFP"
      },
      "source": [
        "## 2.3 Limpieza"
      ]
    },
    {
      "cell_type": "code",
      "execution_count": 13,
      "metadata": {
        "colab": {
          "base_uri": "https://localhost:8080/"
        },
        "id": "6dnQAtsiLmSq",
        "outputId": "26ac177a-12c2-4179-8c08-74fd4a3f9518"
      },
      "outputs": [
        {
          "name": "stdout",
          "output_type": "stream",
          "text": [
            "FOLIO_ID               102977\n",
            "LAT                     77745\n",
            "LONG                    78326\n",
            "CODIGO POSTAL             810\n",
            "CALLE                   43030\n",
            "COLONIA                 18837\n",
            "CAUSA SINIESTRO             7\n",
            "TIPO VEHICULO               5\n",
            "COLOR                    2341\n",
            "MODELO_VEHICULO           102\n",
            "NIVEL DAÑO VEHICULO         5\n",
            "PUNTO DE IMPACTO           13\n",
            "AÑO                         3\n",
            "MES                        12\n",
            "DÍA NUMERO                 31\n",
            "DIA                         7\n",
            "HORA                       24\n",
            "ESTADO                      1\n",
            "CIUDAD_APROXIMADA          73\n",
            "DATE                      911\n",
            "dtype: int64\n"
          ]
        }
      ],
      "source": [
        "# Obtenemos la cantidad de valores únicos por columna\n",
        "valores_unicos_por_columna = data_datlas.nunique()\n",
        "\n",
        "# Imprimir la cantidad de valores únicos por columna\n",
        "print(valores_unicos_por_columna)"
      ]
    },
    {
      "attachments": {},
      "cell_type": "markdown",
      "metadata": {
        "id": "0k7nGvRCM3fr"
      },
      "source": [
        "Los valores unicos de cada columna nos dan información importante, de aquí sabemos que debemos corregir al menos el COLOR, ya que es muy poco probable que sean 2341 colores diferentes, así que vamos a comenzar a realizar limpieza columna por columna."
      ]
    },
    {
      "cell_type": "code",
      "execution_count": 14,
      "metadata": {
        "colab": {
          "base_uri": "https://localhost:8080/"
        },
        "id": "HK8bDS7iVpWv",
        "outputId": "551e3860-ab47-46aa-8df9-28da433cdbff"
      },
      "outputs": [
        {
          "data": {
            "text/plain": [
              "Index(['LAT', 'LONG', 'CODIGO POSTAL', 'CALLE', 'COLONIA', 'CAUSA SINIESTRO',\n",
              "       'TIPO VEHICULO', 'COLOR', 'MODELO_VEHICULO', 'NIVEL DAÑO VEHICULO',\n",
              "       'PUNTO DE IMPACTO', 'AÑO', 'MES', 'DÍA NUMERO', 'DIA', 'HORA', 'ESTADO',\n",
              "       'CIUDAD_APROXIMADA', 'DATE'],\n",
              "      dtype='object')"
            ]
          },
          "execution_count": 14,
          "metadata": {},
          "output_type": "execute_result"
        }
      ],
      "source": [
        "# Eliminamos la columna FOLIO_ID ya que no nos aporta información relevante en este punto.\n",
        "data_datlas=data_datlas.drop('FOLIO_ID', axis=1)\n",
        "data_datlas.columns"
      ]
    },
    {
      "cell_type": "code",
      "execution_count": 15,
      "metadata": {
        "colab": {
          "base_uri": "https://localhost:8080/"
        },
        "id": "V6NGVzP0WLzM",
        "outputId": "3764123f-4ab5-477e-b5ee-c31f521e58af"
      },
      "outputs": [
        {
          "name": "stdout",
          "output_type": "stream",
          "text": [
            "-------------------------------------------------------------\n",
            "Index(['LAT', 'LONG', 'CODIGO POSTAL', 'CALLE', 'COLONIA', 'CAUSA SINIESTRO',\n",
            "       'TIPO VEHICULO', 'COLOR', 'MODELO_VEHICULO', 'NIVEL DAÑO VEHICULO',\n",
            "       'PUNTO DE IMPACTO', 'AÑO', 'MES', 'DÍA NUMERO', 'DIA', 'HORA', 'ESTADO',\n",
            "       'CIUDAD_APROXIMADA', 'DATE'],\n",
            "      dtype='object')\n"
          ]
        }
      ],
      "source": [
        "# En cuanto a latitud y longitud, podemos filtrar en un cuadro de coordenadas\n",
        "# Esto mediante nos asegura que los datos son de NUEVO LEON\n",
        "# Para ello, usare las coordenadas de la pagina del INEGI: https://www.inegi.org.mx/app/mapa/espacioydatos/default.aspx\n",
        "lat_min = 23.1535\n",
        "lat_max = 27.8410\n",
        "long_min = -101.2830\n",
        "long_max = -98.4045\n",
        "\n",
        "data_datlas = data_datlas[data_datlas['LAT'] < lat_max]\n",
        "data_datlas = data_datlas[data_datlas['LAT'] > lat_min]\n",
        "data_datlas = data_datlas[data_datlas['LONG'] < long_max]\n",
        "data_datlas = data_datlas[data_datlas['LONG'] > long_min]\n",
        "print(\"-------------------------------------------------------------\")\n",
        "print(data_datlas.columns)"
      ]
    },
    {
      "cell_type": "code",
      "execution_count": 16,
      "metadata": {
        "colab": {
          "base_uri": "https://localhost:8080/"
        },
        "id": "1jhlSfDIa8Kw",
        "outputId": "d858d8e9-26e6-430d-c667-c4120f40140c"
      },
      "outputs": [],
      "source": [
        "## Para el codigo postal, deben ser codigos de 5 digitos, así que vamos a extraer solo aquellos que cumplan con la condición\n",
        "data_datlas['CODIGO POSTAL'] = data_datlas['CODIGO POSTAL'].str.extract(r'(\\d{5})')\n",
        "# Eliminamos los NAs\n",
        "data_datlas = data_datlas.dropna()"
      ]
    },
    {
      "cell_type": "code",
      "execution_count": 17,
      "metadata": {},
      "outputs": [
        {
          "name": "stdout",
          "output_type": "stream",
          "text": [
            "Cantidad de calles 38228\n",
            "Cantidad de colonias 16499\n",
            "Cantidad de calles 2145\n"
          ]
        }
      ],
      "source": [
        "## Veamos como estamos en calles, colonias y los colores\n",
        "print('Cantidad de calles', len(data_datlas['CALLE'].unique()))\n",
        "print('Cantidad de colonias', len(data_datlas['COLONIA'].unique()))\n",
        "print('Cantidad de calles', len(data_datlas['COLOR'].unique()))"
      ]
    },
    {
      "cell_type": "code",
      "execution_count": 18,
      "metadata": {},
      "outputs": [],
      "source": [
        "## Hacemos la columna en palabras mayusculas\n",
        "data_datlas['CALLE'] = data_datlas['CALLE'].str.upper()\n",
        "data_datlas['COLONIA'] = data_datlas['COLONIA'].str.upper()\n",
        "data_datlas['COLOR'] = data_datlas['COLOR'].str.upper()"
      ]
    },
    {
      "cell_type": "code",
      "execution_count": 19,
      "metadata": {},
      "outputs": [
        {
          "data": {
            "text/plain": [
              "CALLE\n",
              "AVENIDA EUGENIO GARZA SADA            885\n",
              "AVENIDA MIGUEL ALEMÁN                 802\n",
              "CARRETERA NACIONAL                    590\n",
              "AVENIDA LÁZARO CÁRDENAS               584\n",
              "AVENIDA ALFONSO REYES                 565\n",
              "AVENIDA REVOLUCIÓN                    501\n",
              "ABRAHAM LINCOLN                       474\n",
              "AV. MIGUEL ALEMÁN                     464\n",
              "AV. PASEO DE LOS LEONES               453\n",
              "AVENIDA CONSTITUCIÓN                  441\n",
              "AVENIDA PASEO DE LOS LEONES           435\n",
              "AVENIDA ABRAHAM LINCOLN               388\n",
              "AV. ADOLFO RUIZ CORTÍNES              361\n",
              "AVENIDA UNIVERSIDAD                   304\n",
              "ALFONSO REYES                         303\n",
              "LIBRAMIENTO NORESTE                   275\n",
              "AVENIDA DR JOSÉ ELEUTERIO GONZÁLEZ    274\n",
              "AVENIDA ELOY CAVAZOS                  261\n",
              "MANUEL BARRAGÁN                       253\n",
              "GONZALITOS                            251\n",
              "BENITO JUÁREZ                         245\n",
              "UNIVERSIDAD                           243\n",
              "MIGUEL ALEMAN                         243\n",
              "ELOY CAVAZOS                          240\n",
              "LÁZARO CÁRDENAS                       226\n",
              "Name: count, dtype: int64"
            ]
          },
          "execution_count": 19,
          "metadata": {},
          "output_type": "execute_result"
        }
      ],
      "source": [
        "# Ver cuales calles son mas populares\n",
        "data_datlas['CALLE'].value_counts().head(25)"
      ]
    },
    {
      "cell_type": "code",
      "execution_count": 20,
      "metadata": {},
      "outputs": [
        {
          "data": {
            "text/plain": [
              "COLONIA\n",
              "MONTERREY CENTRO                     3882\n",
              "DEL VALLE                            2234\n",
              "VISTA HERMOSA                        1684\n",
              "CENTRO                               1586\n",
              "FIERRO                               1580\n",
              "\\N                                   1449\n",
              "HOMERO SEPÚLVEDA                     1066\n",
              "BOSQUES DEL NOGALAR                  1032\n",
              "PRIVADAS DE ANÁHUAC SECTOR INGLÉS     945\n",
              "FRANCISCO GARCÍA NARANJO (INDECO)     924\n",
              "PLAZA SAN ANTONIO                     900\n",
              "MITRAS CENTRO                         823\n",
              "LOS FAISANES SECTOR EL DORADO         750\n",
              "RESIDENCIAL CUMBRES                   691\n",
              "JARDÍN DE LAS PUENTES                 622\n",
              "VILLA ALTA                            603\n",
              "BOSQUES DE SANTA ROSA                 594\n",
              "CROC INFONAVIT                        592\n",
              "CONTRY                                584\n",
              "CADEREYTA JIMÉNEZ CENTRO              560\n",
              "OBISPADO                              499\n",
              "SIN DATO                              468\n",
              "VALLE DE LAS BRISAS                   459\n",
              "BOSQUES DE LA SILLA                   424\n",
              "MITRAS NORTE                          420\n",
              "Name: count, dtype: int64"
            ]
          },
          "execution_count": 20,
          "metadata": {},
          "output_type": "execute_result"
        }
      ],
      "source": [
        "# Ver cuales calles son mas populares\n",
        "data_datlas['COLONIA'].value_counts().head(25)"
      ]
    },
    {
      "cell_type": "code",
      "execution_count": 21,
      "metadata": {},
      "outputs": [
        {
          "data": {
            "text/plain": [
              "COLOR\n",
              "BLANCO        27951\n",
              "GRIS          15931\n",
              "ROJO           8609\n",
              "PLATA          6476\n",
              "NEGRO          5881\n",
              "AZUL           5638\n",
              "ARENA          3049\n",
              "VERDE          2369\n",
              "BLANCA         1966\n",
              "AMARILLO       1622\n",
              "GUINDA         1119\n",
              "VINO            973\n",
              "\\N              845\n",
              "DORADO          705\n",
              "CAFE            676\n",
              "GRIS PLATA      640\n",
              "GUINDO          446\n",
              "NEGRA           431\n",
              "ROJA            385\n",
              "NARANJA         301\n",
              "BCO             259\n",
              "ANARANJADO      201\n",
              "BEIGE           197\n",
              "CELESTE         145\n",
              "BLANCO CON      138\n",
              "Name: count, dtype: int64"
            ]
          },
          "execution_count": 21,
          "metadata": {},
          "output_type": "execute_result"
        }
      ],
      "source": [
        "# Ver cuales calles son mas populares\n",
        "data_datlas['COLOR'].value_counts().head(25)"
      ]
    },
    {
      "cell_type": "code",
      "execution_count": 22,
      "metadata": {},
      "outputs": [],
      "source": [
        "##  Reemplazamos valores de filas con valores similares de los más comunes\n",
        "\n",
        "def remplazar_valores(df, columna, valor_a_remplazar, valor_remplazo):\n",
        "    df[columna] = df[columna].replace(valor_a_remplazar, valor_remplazo)\n",
        "\n",
        "remplazar_valores(data_datlas, 'COLOR', r'BLANCA', 'BLANCO')\n",
        "remplazar_valores(data_datlas, 'COLOR', r'BLANCODE', 'BLANCO')\n",
        "remplazar_valores(data_datlas, 'COLOR', r'BLANCO14', 'BLANCO')\n",
        "remplazar_valores(data_datlas, 'COLOR', r'BLANCO 16', 'BLANCO')\n",
        "remplazar_valores(data_datlas, 'COLOR', r'BLANCO16', 'BLANCO')\n",
        "remplazar_valores(data_datlas, 'COLOR', r'BCO', 'BLANCO')\n",
        "remplazar_valores(data_datlas, 'COLOR', r'2014 BCO', 'BLANCO')\n",
        "remplazar_valores(data_datlas, 'COLOR', r'2015 BCO', 'BLANCO')\n",
        "remplazar_valores(data_datlas, 'COLOR', r'BLANCODE ', 'BLANCO')\n",
        "remplazar_valores(data_datlas, 'COLOR', r'BLANCO/VER ', 'BLANCO')\n",
        "remplazar_valores(data_datlas, 'COLOR', r'BLANCO/NEG ', 'BLANCO')\n",
        "remplazar_valores(data_datlas, 'COLOR', r'BLANCO/13', 'BLANCO')\n",
        "remplazar_valores(data_datlas, 'COLOR', r'BLANCO/14', 'BLANCO')\n",
        "remplazar_valores(data_datlas, 'COLOR', r'BLANCO/15', 'BLANCO')\n",
        "remplazar_valores(data_datlas, 'COLOR', r'BLANCO/16', 'BLANCO')\n",
        "remplazar_valores(data_datlas, 'COLOR', r'2014 BLANCO', 'BLANCO')\n",
        "remplazar_valores(data_datlas, 'COLOR', r'2014BLANCO', 'BLANCO')\n",
        "remplazar_valores(data_datlas, 'COLOR', r'2015 BLANCO', 'BLANCO')\n",
        "remplazar_valores(data_datlas, 'COLOR', r'2016 BLANCO', 'BLANCO')\n",
        "remplazar_valores(data_datlas, 'COLOR', r'BLANCO2013', 'BLANCO')\n",
        "remplazar_valores(data_datlas, 'COLOR', r'BLANCO2014', 'BLANCO')\n",
        "remplazar_valores(data_datlas, 'COLOR', r'BLANCO2015', 'BLANCO')\n",
        "remplazar_valores(data_datlas, 'COLOR', r'BLANCO2016', 'BLANCO')\n",
        "remplazar_valores(data_datlas, 'COLOR', r'BLANCO2017', 'BLANCO')\n",
        "remplazar_valores(data_datlas, 'COLOR', r'BLANCO/2015', 'BLANCO')\n",
        "remplazar_valores(data_datlas, 'COLOR', r'BLANCO/ROJO', 'BLANCO')\n",
        "remplazar_valores(data_datlas, 'COLOR', r'BLANCO CON', 'BLANCO')\n",
        "remplazar_valores(data_datlas, 'COLOR', r'BLANCO/VERDE', 'BLANCO')\n",
        "remplazar_valores(data_datlas, 'COLOR', r'BLANCO/AZUL', 'BLANCO')\n",
        "remplazar_valores(data_datlas, 'COLOR', r'BLANCO/AZU', 'BLANCO')\n",
        "remplazar_valores(data_datlas, 'COLOR', r'BALNCO', 'BLANCO')\n",
        "remplazar_valores(data_datlas, 'COLOR', r'2016BLANCO', 'BLANCO')\n",
        "remplazar_valores(data_datlas, 'COLOR', r'BLANCO/ROJ', 'BLANCO')\n",
        "remplazar_valores(data_datlas, 'COLOR', r'BLANCO 15', 'BLANCO')\n",
        "remplazar_valores(data_datlas, 'COLOR', r'BLANCO2012', 'BLANCO')\n",
        "remplazar_valores(data_datlas, 'COLOR', r'GRIS PLATA', 'GRIS')\n",
        "remplazar_valores(data_datlas, 'COLOR', r'GRIS OBSCU', 'GRIS')\n",
        "remplazar_valores(data_datlas, 'COLOR', r'GRIS OSCUR', 'GRIS')\n",
        "remplazar_valores(data_datlas, 'COLOR', r'GRIS METALICO', 'GRIS')\n",
        "remplazar_valores(data_datlas, 'COLOR', r'GRIS OXFOR', 'GRIS')\n",
        "remplazar_valores(data_datlas, 'COLOR', r'GRIS2016', 'GRIS')\n",
        "remplazar_valores(data_datlas, 'COLOR', r'GRIS2017', 'GRIS')\n",
        "remplazar_valores(data_datlas, 'COLOR', r'GRIS/NEGRO', 'GRIS')    \n",
        "remplazar_valores(data_datlas, 'COLOR', r'GRIS ACERO', 'GRIS')\n",
        "remplazar_valores(data_datlas, 'COLOR', r'ROJA', 'ROJO')\n",
        "remplazar_valores(data_datlas, 'COLOR', r'ROJO2016', 'ROJO')\n",
        "remplazar_valores(data_datlas, 'COLOR', r'ROJO2017', 'ROJO')\n",
        "remplazar_valores(data_datlas, 'COLOR', r'ANARANJADO', 'NARANJA')\n",
        "remplazar_valores(data_datlas, 'COLOR', r'NEGRA', 'NEGRO')\n",
        "remplazar_valores(data_datlas, 'COLOR', r'AZUL CIELO', 'AZUL')\n",
        "remplazar_valores(data_datlas, 'COLOR', r'AZUL REY', 'AZUL')\n",
        "remplazar_valores(data_datlas, 'COLOR', r'AZUL MARIN', 'AZUL')\n",
        "remplazar_valores(data_datlas, 'COLOR', r'AZUL/BLANCO', 'AZUL')\n",
        "remplazar_valores(data_datlas, 'COLOR', r'AZUL/BLANC', 'AZUL')\n",
        "remplazar_valores(data_datlas, 'COLOR', r'AZUL GRIS', 'AZUL')\n",
        "remplazar_valores(data_datlas, 'COLOR', r'AZUL CLARO', 'AZUL')\n",
        "remplazar_valores(data_datlas, 'COLOR', r'AZULO', 'AZUL')\n",
        "remplazar_valores(data_datlas, 'COLOR', r'AZUL METALICO', 'AZUL')\n",
        "remplazar_valores(data_datlas, 'COLOR', r'GUINDA', 'GUINDO')\n",
        "remplazar_valores(data_datlas, 'COLOR', r'GINDA', 'GUINDO')\n",
        "remplazar_valores(data_datlas, 'COLOR', r'VINO', 'GUINDO')\n",
        "remplazar_valores(data_datlas, 'COLOR', r'GINDO', 'GUINDO')\n",
        "remplazar_valores(data_datlas, 'COLOR', r'PLATEADO', 'PLATA')\n",
        "remplazar_valores(data_datlas, 'COLOR', r'PLATEADA', 'PLATA')\n",
        "remplazar_valores(data_datlas, 'COLOR', r'DORADA', 'DORADO')\n",
        "remplazar_valores(data_datlas, 'COLOR', r'AMARILLA', 'AMARILLO')"
      ]
    },
    {
      "cell_type": "code",
      "execution_count": 23,
      "metadata": {},
      "outputs": [],
      "source": [
        "# Vamos con las calles\n",
        "data_datlas['CALLE'] = data_datlas['CALLE'].apply(lambda x: re.sub('AVENIDA', 'AV.', str(x)))\n",
        "remplazar_valores(data_datlas, 'CALLE', r'UNIVERSIDAD', 'AV. UNIVERSIDAD')\n",
        "remplazar_valores(data_datlas, 'CALLE', r'ABRAHAM LINCOLN', 'AV. ABRAHAM LINCOLN')\n",
        "remplazar_valores(data_datlas, 'CALLE', r'ALFONSO REYES', 'AV. ALFONSO REYES')\n",
        "remplazar_valores(data_datlas, 'CALLE', r'MIGUEL ALEMAN', 'AV. MIGUEL ALEMÁN')\n",
        "remplazar_valores(data_datlas, 'CALLE', r'LÁZARO CÁRDENAS', 'AV. LÁZARO CÁRDENAS')\n",
        "remplazar_valores(data_datlas, 'CALLE', r'MANUEL BARRAGÁN', 'AV. MANUEL LUIS BARRAGÁN')\n",
        "remplazar_valores(data_datlas, 'CALLE', r'AV. MANUEL L. BARRAGÁN', 'AV. MANUEL LUIS BARRAGÁN')\n",
        "remplazar_valores(data_datlas, 'CALLE', r'AV UNIVERSIDAD', 'AV. UNIVERSIDAD')\n",
        "remplazar_valores(data_datlas, 'CALLE', r'AV. ADOLFO RUÍZ CORTINES', 'AV. ADOLFO RUIZ CORTÍNES')\n",
        "remplazar_valores(data_datlas, 'CALLE', r'AV RUIZ CORTINEZ', 'AV. ADOLFO RUIZ CORTÍNES')\n",
        "remplazar_valores(data_datlas, 'CALLE', r'ELOY CAVAZOS', 'AV. ELOY CAVAZOS')\n",
        "remplazar_valores(data_datlas, 'CALLE', r'AV. ADOLFO RUIZ CORTINES', 'AV. ADOLFO RUIZ CORTÍNES')\n",
        "remplazar_valores(data_datlas, 'CALLE', r'AV. ADOLFO RUIZ CORTINEZ', 'AV. ADOLFO RUIZ CORTÍNES')\n",
        "remplazar_valores(data_datlas, 'CALLE', r'PABLO LIVAS', 'AV. PABLO LIVAS')\n",
        "remplazar_valores(data_datlas, 'CALLE', r'LAZARO CARDENAS', 'AV. LÁZARO CÁRDENAS')\n",
        "remplazar_valores(data_datlas, 'CALLE', r'AV LAZARO CARDENAS', 'AV. LÁZARO CÁRDENAS')\n",
        "remplazar_valores(data_datlas, 'CALLE', r'ADOLFO LÓPEZ MATEOS', 'AV. ADOLFO LÓPEZ MATEOS')\n",
        "remplazar_valores(data_datlas, 'CALLE', r'LOPEZ MATEOS', 'AV. ADOLFO LÓPEZ MATEOS')\n",
        "remplazar_valores(data_datlas, 'CALLE', r'CARRETERA MIGUEL ALEMÁN', 'AV. MIGUEL ALEMÁN')\n",
        "remplazar_valores(data_datlas, 'CALLE', r'MIGUEL ALEMÁN', 'AV. MIGUEL ALEMÁN')\n",
        "remplazar_valores(data_datlas, 'CALLE', r'I. MORONES PRIETO', 'AV. IGNACIO MORONES PRIETO')\n",
        "remplazar_valores(data_datlas, 'CALLE', r'MORONES PRIETO', 'AV. IGNACIO MORONES PRIETO')\n",
        "remplazar_valores(data_datlas, 'CALLE', r'AV MORONES PRIETO', 'AV. IGNACIO MORONES PRIETO')\n",
        "remplazar_valores(data_datlas, 'CALLE', r'AV. I. MORONES PRIETO', 'AV. IGNACIO MORONES PRIETO')\n",
        "remplazar_valores(data_datlas, 'CALLE', r'AV. DOCTOR IGNACIO MORONES PRIETO', 'AV. IGNACIO MORONES PRIETO')\n",
        "remplazar_valores(data_datlas, 'CALLE', r'AV. IGNACION MORONES PRIETO', 'AV. IGNACIO MORONES PRIETO')\n",
        "remplazar_valores(data_datlas, 'CALLE', r'EUGENIO GARZA SADA', 'AV. EUGENIO GARZA SADA')\n",
        "remplazar_valores(data_datlas, 'CALLE', r'AV. EUGENIO GARZA SADA SUR', 'AV. EUGENIO GARZA SADA')\n",
        "remplazar_valores(data_datlas, 'CALLE', r'AV EUGENIO GARZA SADA', 'AV. EUGENIO GARZA SADA')\n",
        "remplazar_valores(data_datlas, 'CALLE', r'BENITO JUÁREZ', 'AV. BENITO JUÁREZ')\n",
        "remplazar_valores(data_datlas, 'CALLE', r'BENITO JUAREZ', 'AV. BENITO JUÁREZ')\n",
        "remplazar_valores(data_datlas, 'CALLE', r'MAESTRO ISRAEL CAVAZOS GARZA', 'AV. MAESTRO ISRAEL CAVAZOS GARZA')\n",
        "remplazar_valores(data_datlas, 'CALLE', r'AV. ADOLFO RUIZ CORTÍNEZ', 'AV. ADOLFO RUIZ CORTÍNES')\n",
        "remplazar_valores(data_datlas, 'CALLE', r'RÓMULO GARZA', 'AV. RÓMULO GARZA')\n",
        "remplazar_valores(data_datlas, 'CALLE', r'AV ROMULO GARZA', 'AV. RÓMULO GARZA')\n",
        "remplazar_valores(data_datlas, 'CALLE', r'ROMULO DÍAZ DE LA VEGA 1870', 'AV. RÓMULO GARZA')\n",
        "remplazar_valores(data_datlas, 'CALLE', r'CONSTITUCION', 'AV. CONSTITUCIÓN')\n",
        "remplazar_valores(data_datlas, 'CALLE', r'CONSTITUCIÓN', 'AV. CONSTITUCIÓN')\n",
        "remplazar_valores(data_datlas, 'CALLE', r'AV CONSTITUCION', 'AV. CONSTITUCIÓN')\n",
        "remplazar_valores(data_datlas, 'CALLE', r'AV. GÓMEZ MORÍN', 'AV. MANUEL GÓMEZ MORÍN')\n",
        "remplazar_valores(data_datlas, 'CALLE', r'AV MIGUEL ALEMAN', 'AV. MIGUEL ALEMÁN')\n",
        "remplazar_valores(data_datlas, 'CALLE', r'AV. MIGUEL ALEMÃ¡N', 'AV. MIGUEL ALEMÁN')\n",
        "remplazar_valores(data_datlas, 'CALLE', r'AV. LEONES', 'AV. PASEO DE LOS LEONES')\n",
        "remplazar_valores(data_datlas, 'CALLE', r'AV PASEO DE LOS LEONES', 'AV. PASEO DE LOS LEONES')\n",
        "remplazar_valores(data_datlas, 'CALLE', r'PASEO DE LOS LEONES', 'AV. PASEO DE LOS LEONES')\n",
        "remplazar_valores(data_datlas, 'CALLE', r'FIDEL VELAZQUEZ', 'AV. FIDEL VELÁZQUEZ')\n",
        "remplazar_valores(data_datlas, 'CALLE', r'GONZALITOS', 'AV. GONZALITOS')\n",
        "remplazar_valores(data_datlas, 'CALLE', r'AV GONZALITOS', 'AV. GONZALITOS')\n",
        "remplazar_valores(data_datlas, 'CALLE', r'AV REVOLUCION', 'AV. REVOLUCIÓN')\n",
        "remplazar_valores(data_datlas, 'CALLE', r'REVOLUCION', 'AV. REVOLUCIÓN')\n",
        "remplazar_valores(data_datlas, 'CALLE', r'PLUTARCO ELIAS CALLES', 'AV. PLUTARCO ELIAS CALLES')\n",
        "remplazar_valores(data_datlas, 'CALLE', r'AV. LICENCIADO RAÚL SALINAS LOZANO', 'AV. RAÚL SALINAS LOZANO')\n",
        "remplazar_valores(data_datlas, 'CALLE', r'RAUL SALINAS', 'AV. RAÚL SALINAS LOZANO')\n",
        "remplazar_valores(data_datlas, 'CALLE', r'RAUL SALINAS LOZANO', 'AV. RAÚL SALINAS LOZANO')\n",
        "remplazar_valores(data_datlas, 'CALLE', r'BOULEVARD LICENCIADO GUSTAVO DÍAZ ORDAZ', 'BLV. GUSTAVO DÍAZ ORDAZ')\n",
        "remplazar_valores(data_datlas, 'CALLE', r'CHAPULTEPEC', 'AV. CHAPULTEPEC')\n",
        "remplazar_valores(data_datlas, 'CALLE', r'AV CHAPULTEPEC', 'AV. CHAPULTEPEC')\n",
        "remplazar_valores(data_datlas, 'CALLE', r'CUAUHTÉMOC', 'AV. CUAUHTÉMOC')\n",
        "remplazar_valores(data_datlas, 'CALLE', r'CUAUHTEMOC', 'AV. CUAUHTÉMOC')\n",
        "remplazar_valores(data_datlas, 'CALLE', r'CONCORDIA', 'AV. CONCORDIA')\n",
        "remplazar_valores(data_datlas, 'CALLE', r'DE LA CONCORDIA', 'AV. CONCORDIA')\n",
        "remplazar_valores(data_datlas, 'CALLE', r'VENUSTIANO CARRANZA', 'AV. VENUSTIANO CARRANZA')\n",
        "remplazar_valores(data_datlas, 'CALLE', r'ROMULO GARZA', 'AV. RÓMULO GARZA')\n",
        "remplazar_valores(data_datlas, 'CALLE', r'AV LAS TORRES', 'AV. LAS TORRES')"
      ]
    },
    {
      "cell_type": "code",
      "execution_count": 24,
      "metadata": {},
      "outputs": [
        {
          "name": "stdout",
          "output_type": "stream",
          "text": [
            "Cantidad de calles 34817\n",
            "Cantidad de colonias 13773\n",
            "Cantidad de colores 1773\n"
          ]
        }
      ],
      "source": [
        "## Veamos como estamos despues de la limpieza\n",
        "print('Cantidad de calles', len(data_datlas['CALLE'].unique()))\n",
        "print('Cantidad de colonias', len(data_datlas['COLONIA'].unique()))\n",
        "print('Cantidad de colores', len(data_datlas['COLOR'].unique()))"
      ]
    },
    {
      "cell_type": "code",
      "execution_count": 25,
      "metadata": {},
      "outputs": [],
      "source": [
        "## Eliminamos las filas que contenga el simbolo \\N\n",
        "data_datlas = data_datlas[~data_datlas['COLONIA'].str.contains(r'\\\\N', na=False)]\n",
        "data_datlas = data_datlas[~data_datlas['COLOR'].str.contains(r'\\\\N', na=False)]"
      ]
    },
    {
      "attachments": {},
      "cell_type": "markdown",
      "metadata": {},
      "source": [
        "Para poder realizar una mejor limpieza se requiere más tiempo y manejar una refencia en cuanto a las categorias que se buscan tene, por ejemplo, la lista de nombres de colonias por cada ciudad de Nuevo León."
      ]
    },
    {
      "cell_type": "code",
      "execution_count": 26,
      "metadata": {},
      "outputs": [
        {
          "data": {
            "text/plain": [
              "CAUSA SINIESTRO\n",
              "COLISION Y/O VUELCO           90445\n",
              "FENOMENOS DE LA NATURALEZA      418\n",
              "ATROPELLO                       345\n",
              "INCENDIO RAYO O EXPLOSION        78\n",
              "DAÑOS POR LA CARGA               49\n",
              "TRANSPORTACION                   31\n",
              "HUELGAS Y ALBOROTOS              26\n",
              "Name: count, dtype: int64"
            ]
          },
          "execution_count": 26,
          "metadata": {},
          "output_type": "execute_result"
        }
      ],
      "source": [
        "data_datlas['CAUSA SINIESTRO'].value_counts()"
      ]
    },
    {
      "cell_type": "code",
      "execution_count": 27,
      "metadata": {},
      "outputs": [
        {
          "data": {
            "text/plain": [
              "TIPO VEHICULO\n",
              "Auto             69216\n",
              "Camión           19697\n",
              "Camión Ligero     2365\n",
              "Motocicleta        114\n",
              "Name: count, dtype: int64"
            ]
          },
          "execution_count": 27,
          "metadata": {},
          "output_type": "execute_result"
        }
      ],
      "source": [
        "data_datlas['TIPO VEHICULO'].value_counts()"
      ]
    },
    {
      "cell_type": "code",
      "execution_count": 28,
      "metadata": {},
      "outputs": [
        {
          "data": {
            "text/plain": [
              "MODELO_VEHICULO\n",
              "2012    7124\n",
              "2011    7095\n",
              "2015    5877\n",
              "2013    4846\n",
              "2007    4759\n",
              "        ... \n",
              "1976       1\n",
              "1979       1\n",
              "1952       1\n",
              "1955       1\n",
              "1987       1\n",
              "Name: count, Length: 101, dtype: int64"
            ]
          },
          "execution_count": 28,
          "metadata": {},
          "output_type": "execute_result"
        }
      ],
      "source": [
        "data_datlas['MODELO_VEHICULO'].value_counts()"
      ]
    },
    {
      "cell_type": "code",
      "execution_count": 29,
      "metadata": {},
      "outputs": [
        {
          "data": {
            "text/plain": [
              "NIVEL DAÑO VEHICULO\n",
              "Bajo        50046\n",
              "Sin daño    39754\n",
              "Medio        1321\n",
              "Alto          271\n",
              "Name: count, dtype: int64"
            ]
          },
          "execution_count": 29,
          "metadata": {},
          "output_type": "execute_result"
        }
      ],
      "source": [
        "data_datlas['NIVEL DAÑO VEHICULO'].value_counts()"
      ]
    },
    {
      "cell_type": "code",
      "execution_count": 30,
      "metadata": {},
      "outputs": [
        {
          "data": {
            "text/plain": [
              "PUNTO DE IMPACTO\n",
              "Frontal                  22808\n",
              "Trasero                  22792\n",
              "Cofre                    13322\n",
              "Costado der delantero     7497\n",
              "Costado izq delantero     6195\n",
              "Costado der trasero       5166\n",
              "Costado izq trasero       4906\n",
              "Costado der central       3717\n",
              "Costado izq central       3389\n",
              "Parte baja                 884\n",
              "Toldo                      656\n",
              "Tapa cajuela                60\n",
              "Name: count, dtype: int64"
            ]
          },
          "execution_count": 30,
          "metadata": {},
          "output_type": "execute_result"
        }
      ],
      "source": [
        "data_datlas['PUNTO DE IMPACTO'].value_counts()"
      ]
    },
    {
      "cell_type": "code",
      "execution_count": 31,
      "metadata": {},
      "outputs": [
        {
          "name": "stdout",
          "output_type": "stream",
          "text": [
            "Index(['LAT', 'LONG', 'CODIGO POSTAL', 'CALLE', 'COLONIA', 'CAUSA SINIESTRO',\n",
            "       'TIPO VEHICULO', 'COLOR', 'MODELO_VEHICULO', 'NIVEL DAÑO VEHICULO',\n",
            "       'PUNTO DE IMPACTO', 'AÑO', 'MES', 'DÍA NUMERO', 'DIA', 'HORA', 'ESTADO',\n",
            "       'CIUDAD_APROXIMADA', 'DATE'],\n",
            "      dtype='object')\n"
          ]
        }
      ],
      "source": [
        "print(data_datlas.columns)"
      ]
    },
    {
      "cell_type": "code",
      "execution_count": 32,
      "metadata": {},
      "outputs": [
        {
          "name": "stdout",
          "output_type": "stream",
          "text": [
            "AÑO\n",
            "2016    41349\n",
            "2017    34385\n",
            "2018    15658\n",
            "Name: count, dtype: int64\n",
            "-----------------------------------\n"
          ]
        }
      ],
      "source": [
        "print(data_datlas['AÑO'].value_counts().sort_index())\n",
        "print(\"-----------------------------------\")"
      ]
    },
    {
      "cell_type": "code",
      "execution_count": 33,
      "metadata": {},
      "outputs": [
        {
          "name": "stdout",
          "output_type": "stream",
          "text": [
            "MES\n",
            "1     9187\n",
            "2     8955\n",
            "3     8935\n",
            "4     8664\n",
            "5     9390\n",
            "6     8903\n",
            "7     5915\n",
            "8     6218\n",
            "9     6291\n",
            "10    6331\n",
            "11    6207\n",
            "12    6396\n",
            "Name: count, dtype: int64\n",
            "-----------------------------------\n"
          ]
        }
      ],
      "source": [
        "print(data_datlas['MES'].value_counts().sort_index())\n",
        "print(\"-----------------------------------\")"
      ]
    },
    {
      "cell_type": "code",
      "execution_count": 34,
      "metadata": {},
      "outputs": [
        {
          "name": "stdout",
          "output_type": "stream",
          "text": [
            "DÍA NUMERO\n",
            "1     2848\n",
            "2     3082\n",
            "3     2963\n",
            "4     3259\n",
            "5     2913\n",
            "6     2942\n",
            "7     2963\n",
            "8     3050\n",
            "9     3055\n",
            "10    2967\n",
            "11    2926\n",
            "12    3016\n",
            "13    2958\n",
            "14    3066\n",
            "15    3265\n",
            "16    3183\n",
            "17    2900\n",
            "18    3053\n",
            "19    2938\n",
            "20    3029\n",
            "21    2933\n",
            "22    3060\n",
            "23    3121\n",
            "24    2869\n",
            "25    2784\n",
            "26    2928\n",
            "27    3182\n",
            "28    3027\n",
            "29    2868\n",
            "30    2612\n",
            "31    1632\n",
            "Name: count, dtype: int64\n",
            "-----------------------------------\n"
          ]
        }
      ],
      "source": [
        "print(data_datlas['DÍA NUMERO'].value_counts().sort_index())\n",
        "print(\"-----------------------------------\")"
      ]
    },
    {
      "cell_type": "code",
      "execution_count": 35,
      "metadata": {},
      "outputs": [
        {
          "name": "stdout",
          "output_type": "stream",
          "text": [
            "DIA\n",
            "VIERNES      15260\n",
            "MARTES       14870\n",
            "MIERCOLES    14579\n",
            "JUEVES       14260\n",
            "LUNES        13794\n",
            "SABADO       12185\n",
            "DOMINGO       6444\n",
            "Name: count, dtype: int64\n",
            "-----------------------------------\n"
          ]
        }
      ],
      "source": [
        "print(data_datlas['DIA'].value_counts())\n",
        "print(\"-----------------------------------\")"
      ]
    },
    {
      "cell_type": "code",
      "execution_count": 36,
      "metadata": {},
      "outputs": [
        {
          "name": "stdout",
          "output_type": "stream",
          "text": [
            "HORA\n",
            "0      809\n",
            "1      569\n",
            "2      449\n",
            "3      363\n",
            "4      309\n",
            "5      354\n",
            "6     1050\n",
            "7     3820\n",
            "8     5866\n",
            "9     5457\n",
            "10    5214\n",
            "11    5441\n",
            "12    5989\n",
            "13    6942\n",
            "14    6974\n",
            "15    6395\n",
            "16    6227\n",
            "17    6298\n",
            "18    6820\n",
            "19    5868\n",
            "20    4153\n",
            "21    2837\n",
            "22    1907\n",
            "23    1281\n",
            "Name: count, dtype: int64\n",
            "-----------------------------------\n"
          ]
        }
      ],
      "source": [
        "print(data_datlas['HORA'].value_counts().sort_index())\n",
        "print(\"-----------------------------------\")"
      ]
    },
    {
      "cell_type": "code",
      "execution_count": 37,
      "metadata": {},
      "outputs": [
        {
          "name": "stdout",
          "output_type": "stream",
          "text": [
            "ESTADO\n",
            "NUEVO LEÓN    91392\n",
            "Name: count, dtype: int64\n",
            "-----------------------------------\n"
          ]
        }
      ],
      "source": [
        "print(data_datlas['ESTADO'].value_counts())\n",
        "print(\"-----------------------------------\")"
      ]
    },
    {
      "cell_type": "code",
      "execution_count": 38,
      "metadata": {},
      "outputs": [],
      "source": [
        "## Vamos a eliminar el estado porque solo es 1 y no aporta mayor informacion\n",
        "data_datlas = data_datlas.drop(['ESTADO'], axis=1)"
      ]
    },
    {
      "cell_type": "code",
      "execution_count": 39,
      "metadata": {},
      "outputs": [
        {
          "name": "stdout",
          "output_type": "stream",
          "text": [
            "CIUDAD_APROXIMADA\n",
            "ABASOLO                      21\n",
            "AGUALEGUAS                    1\n",
            "ALLENDE                     929\n",
            "ANAHUAC                      69\n",
            "APODACA                    7446\n",
            "AQUILES SERDÁN                2\n",
            "ARAMBERRI                    10\n",
            "ARBOLEDAS DEL VALLE           1\n",
            "BUSTAMANTE                   13\n",
            "CADEREYTA JIMENEZ          1615\n",
            "CARMEN                       98\n",
            "CENTRO DE LINARES             1\n",
            "CERRALVO                     13\n",
            "CHINA                        60\n",
            "CIENEGA DE FLORES           353\n",
            "COLONIA MIGUEL HIDALGO        2\n",
            "DEL PASEO                     3\n",
            "DEL VIDRIO                    1\n",
            "DOCTOR ARROYO                52\n",
            "DOCTOR GONZALEZ               6\n",
            "EL CARMEN                     4\n",
            "GALEANA                     169\n",
            "GARCIA                     1445\n",
            "GARZA GARCIA               7670\n",
            "GENERAL BRAVO                67\n",
            "GENERAL ESCOBEDO           4945\n",
            "GENERAL TERAN                29\n",
            "GENERAL ZARAGOZA              2\n",
            "GENERAL ZUAZUA              248\n",
            "GUADALUPE                 10555\n",
            "HACIENDA LOS NOGALES          1\n",
            "HIDALGO                      65\n",
            "HIGUERAS                      1\n",
            "HUALAHUISES                  43\n",
            "ITURBIDE                      8\n",
            "JUAREZ                     1280\n",
            "LAMPAZOS DE NARANJO          22\n",
            "LINARES                     316\n",
            "LOS ALDAMAS                   1\n",
            "MARIN                        28\n",
            "MELCHOR OCAMPO                1\n",
            "MINA                         50\n",
            "MIRADOR RESIDENCIAL           1\n",
            "MONTEMORELOS                443\n",
            "MONTERREY                 36941\n",
            "PESQUERIA                   465\n",
            "RAMONES                      12\n",
            "RAYONES                       1\n",
            "SABINAS HIDALGO             219\n",
            "SALINAS VICTORIA            322\n",
            "Name: count, dtype: int64\n",
            "Total de Ciudades: 59\n",
            "-----------------------------------\n"
          ]
        }
      ],
      "source": [
        "print(data_datlas['CIUDAD_APROXIMADA'].value_counts().sort_index().iloc[:50])\n",
        "print(\"Total de Ciudades:\", len(data_datlas['CIUDAD_APROXIMADA'].unique()))\n",
        "print(\"-----------------------------------\")"
      ]
    },
    {
      "cell_type": "code",
      "execution_count": 40,
      "metadata": {},
      "outputs": [],
      "source": [
        "# Vamos a reemplazar los valores repetidos de cada Ciudad\n",
        "data_datlas['CIUDAD_APROXIMADA'] = data_datlas['CIUDAD_APROXIMADA'].replace('CARMEN', 'EL CARMEN')\n",
        "data_datlas['CIUDAD_APROXIMADA'] = data_datlas['CIUDAD_APROXIMADA'].replace('GARZA GARCIA', 'SAN PEDRO GARZA GARCIA')\n",
        "data_datlas['CIUDAD_APROXIMADA'] = data_datlas['CIUDAD_APROXIMADA'].replace('MIRADOR RESIDENCIAL', 'MONTERREY')\n",
        "data_datlas['CIUDAD_APROXIMADA'] = data_datlas['CIUDAD_APROXIMADA'].replace('HACIENDA LOS NOGALES', 'BUSTAMANTE')\n",
        "data_datlas['CIUDAD_APROXIMADA'] = data_datlas['CIUDAD_APROXIMADA'].replace('COLONIA MIGUEL HIDALGO', 'GUADALUPE')\n",
        "data_datlas['CIUDAD_APROXIMADA'] = data_datlas['CIUDAD_APROXIMADA'].replace('ARBOLEDAS DEL VALLE', 'LINARES')\n",
        "data_datlas['CIUDAD_APROXIMADA'] = data_datlas['CIUDAD_APROXIMADA'].replace('CENTRO DE LINARES', 'LINARES')\n",
        "data_datlas['CIUDAD_APROXIMADA'] = data_datlas['CIUDAD_APROXIMADA'].replace('CENTRO DE LINARES', 'LI')\n",
        "data_datlas['CIUDAD_APROXIMADA'] = data_datlas['CIUDAD_APROXIMADA'].replace('SAN RAFAEL', 'GALEANA')\n",
        "data_datlas['CIUDAD_APROXIMADA'] = data_datlas['CIUDAD_APROXIMADA'].replace('SAN ROBERTO', 'GUADALUPE')\n",
        "data_datlas['CIUDAD_APROXIMADA'] = data_datlas['CIUDAD_APROXIMADA'].replace('RAMONES', 'LOS RAMONES')\n",
        "\n",
        "# Eliminamos los valores que no son ciudades\n",
        "data_datlas = data_datlas[data_datlas['CIUDAD_APROXIMADA'] != 'DEL VIDRIO']\n",
        "data_datlas = data_datlas[data_datlas['CIUDAD_APROXIMADA'] != 'DEL PASEO']\n",
        "data_datlas = data_datlas[data_datlas['CIUDAD_APROXIMADA'] != 'AQUILES SERDÁN']\n",
        "data_datlas = data_datlas[data_datlas['CIUDAD_APROXIMADA'] != 'VALLE ORIENTE']\n",
        "data_datlas = data_datlas[~data_datlas['CIUDAD_APROXIMADA'].str.contains(r'\\\\N', na=False)]"
      ]
    },
    {
      "cell_type": "code",
      "execution_count": 41,
      "metadata": {},
      "outputs": [
        {
          "name": "stdout",
          "output_type": "stream",
          "text": [
            "DATE\n",
            "2016-01-01     50\n",
            "2016-01-02     54\n",
            "2016-01-03     60\n",
            "2016-01-04     94\n",
            "2016-01-05     94\n",
            "             ... \n",
            "2018-06-26     80\n",
            "2018-06-27     94\n",
            "2018-06-28     98\n",
            "2018-06-29    104\n",
            "2018-06-30     83\n",
            "Name: count, Length: 910, dtype: int64\n"
          ]
        }
      ],
      "source": [
        "print(data_datlas['DATE'].value_counts().sort_index())"
      ]
    },
    {
      "cell_type": "code",
      "execution_count": 44,
      "metadata": {},
      "outputs": [],
      "source": [
        "data_datlas.reset_index(drop=True, inplace=True)"
      ]
    },
    {
      "cell_type": "code",
      "execution_count": 45,
      "metadata": {},
      "outputs": [
        {
          "data": {
            "text/html": [
              "<div>\n",
              "<style scoped>\n",
              "    .dataframe tbody tr th:only-of-type {\n",
              "        vertical-align: middle;\n",
              "    }\n",
              "\n",
              "    .dataframe tbody tr th {\n",
              "        vertical-align: top;\n",
              "    }\n",
              "\n",
              "    .dataframe thead th {\n",
              "        text-align: right;\n",
              "    }\n",
              "</style>\n",
              "<table border=\"1\" class=\"dataframe\">\n",
              "  <thead>\n",
              "    <tr style=\"text-align: right;\">\n",
              "      <th></th>\n",
              "      <th>LAT</th>\n",
              "      <th>LONG</th>\n",
              "      <th>CODIGO POSTAL</th>\n",
              "      <th>CALLE</th>\n",
              "      <th>COLONIA</th>\n",
              "      <th>CAUSA SINIESTRO</th>\n",
              "      <th>TIPO VEHICULO</th>\n",
              "      <th>COLOR</th>\n",
              "      <th>MODELO_VEHICULO</th>\n",
              "      <th>NIVEL DAÑO VEHICULO</th>\n",
              "      <th>PUNTO DE IMPACTO</th>\n",
              "      <th>AÑO</th>\n",
              "      <th>MES</th>\n",
              "      <th>DÍA NUMERO</th>\n",
              "      <th>DIA</th>\n",
              "      <th>HORA</th>\n",
              "      <th>CIUDAD_APROXIMADA</th>\n",
              "      <th>DATE</th>\n",
              "    </tr>\n",
              "  </thead>\n",
              "  <tbody>\n",
              "    <tr>\n",
              "      <th>0</th>\n",
              "      <td>25.647351</td>\n",
              "      <td>-100.140132</td>\n",
              "      <td>67277</td>\n",
              "      <td>AMERICA 65</td>\n",
              "      <td>BALCONES DE ZINDARO</td>\n",
              "      <td>COLISION Y/O VUELCO</td>\n",
              "      <td>Camión</td>\n",
              "      <td>BLANCO</td>\n",
              "      <td>2009</td>\n",
              "      <td>Sin daño</td>\n",
              "      <td>Costado izq trasero</td>\n",
              "      <td>2018</td>\n",
              "      <td>1</td>\n",
              "      <td>25</td>\n",
              "      <td>JUEVES</td>\n",
              "      <td>10</td>\n",
              "      <td>JUAREZ</td>\n",
              "      <td>2018-01-25</td>\n",
              "    </tr>\n",
              "    <tr>\n",
              "      <th>1</th>\n",
              "      <td>25.718027</td>\n",
              "      <td>-100.249990</td>\n",
              "      <td>66480</td>\n",
              "      <td>AV. CONDUCTORES</td>\n",
              "      <td>CONDUCTORES INFONAVIT</td>\n",
              "      <td>COLISION Y/O VUELCO</td>\n",
              "      <td>Auto</td>\n",
              "      <td>GRIS</td>\n",
              "      <td>2016</td>\n",
              "      <td>Sin daño</td>\n",
              "      <td>Frontal</td>\n",
              "      <td>2018</td>\n",
              "      <td>1</td>\n",
              "      <td>19</td>\n",
              "      <td>VIERNES</td>\n",
              "      <td>9</td>\n",
              "      <td>SAN NICOLAS DE LOS GARZA</td>\n",
              "      <td>2018-01-19</td>\n",
              "    </tr>\n",
              "    <tr>\n",
              "      <th>2</th>\n",
              "      <td>25.723590</td>\n",
              "      <td>-100.198780</td>\n",
              "      <td>67117</td>\n",
              "      <td>BOULEVARD ACAPULCO</td>\n",
              "      <td>REAL DE SAN MIGUEL</td>\n",
              "      <td>COLISION Y/O VUELCO</td>\n",
              "      <td>Auto</td>\n",
              "      <td>BLANCO</td>\n",
              "      <td>2000</td>\n",
              "      <td>Sin daño</td>\n",
              "      <td>Frontal</td>\n",
              "      <td>2018</td>\n",
              "      <td>1</td>\n",
              "      <td>29</td>\n",
              "      <td>LUNES</td>\n",
              "      <td>17</td>\n",
              "      <td>GUADALUPE</td>\n",
              "      <td>2018-01-29</td>\n",
              "    </tr>\n",
              "    <tr>\n",
              "      <th>3</th>\n",
              "      <td>25.708889</td>\n",
              "      <td>-100.246876</td>\n",
              "      <td>66480</td>\n",
              "      <td>PUERTO MARQUEZ 805</td>\n",
              "      <td>NUEVO MUNDO</td>\n",
              "      <td>COLISION Y/O VUELCO</td>\n",
              "      <td>Auto</td>\n",
              "      <td>AMARILLO</td>\n",
              "      <td>2011</td>\n",
              "      <td>Bajo</td>\n",
              "      <td>Frontal</td>\n",
              "      <td>2018</td>\n",
              "      <td>2</td>\n",
              "      <td>26</td>\n",
              "      <td>LUNES</td>\n",
              "      <td>2</td>\n",
              "      <td>SAN NICOLAS DE LOS GARZA</td>\n",
              "      <td>2018-02-26</td>\n",
              "    </tr>\n",
              "    <tr>\n",
              "      <th>4</th>\n",
              "      <td>25.684047</td>\n",
              "      <td>-100.213976</td>\n",
              "      <td>67160</td>\n",
              "      <td>AV. PLUTARCO ELIAS CALLES</td>\n",
              "      <td>LA JOYA INFONAVIT 2DO. SECTOR</td>\n",
              "      <td>COLISION Y/O VUELCO</td>\n",
              "      <td>Auto</td>\n",
              "      <td>AZUL</td>\n",
              "      <td>2011</td>\n",
              "      <td>Sin daño</td>\n",
              "      <td>Trasero</td>\n",
              "      <td>2018</td>\n",
              "      <td>1</td>\n",
              "      <td>1</td>\n",
              "      <td>LUNES</td>\n",
              "      <td>0</td>\n",
              "      <td>GUADALUPE</td>\n",
              "      <td>2018-01-01</td>\n",
              "    </tr>\n",
              "  </tbody>\n",
              "</table>\n",
              "</div>"
            ],
            "text/plain": [
              "         LAT        LONG CODIGO POSTAL                      CALLE   \n",
              "0  25.647351 -100.140132         67277                 AMERICA 65  \\\n",
              "1  25.718027 -100.249990         66480            AV. CONDUCTORES   \n",
              "2  25.723590 -100.198780         67117         BOULEVARD ACAPULCO   \n",
              "3  25.708889 -100.246876         66480         PUERTO MARQUEZ 805   \n",
              "4  25.684047 -100.213976         67160  AV. PLUTARCO ELIAS CALLES   \n",
              "\n",
              "                         COLONIA      CAUSA SINIESTRO TIPO VEHICULO     COLOR   \n",
              "0            BALCONES DE ZINDARO  COLISION Y/O VUELCO        Camión    BLANCO  \\\n",
              "1          CONDUCTORES INFONAVIT  COLISION Y/O VUELCO          Auto      GRIS   \n",
              "2             REAL DE SAN MIGUEL  COLISION Y/O VUELCO          Auto    BLANCO   \n",
              "3                    NUEVO MUNDO  COLISION Y/O VUELCO          Auto  AMARILLO   \n",
              "4  LA JOYA INFONAVIT 2DO. SECTOR  COLISION Y/O VUELCO          Auto      AZUL   \n",
              "\n",
              "  MODELO_VEHICULO NIVEL DAÑO VEHICULO     PUNTO DE IMPACTO   AÑO  MES   \n",
              "0            2009            Sin daño  Costado izq trasero  2018    1  \\\n",
              "1            2016            Sin daño              Frontal  2018    1   \n",
              "2            2000            Sin daño              Frontal  2018    1   \n",
              "3            2011                Bajo              Frontal  2018    2   \n",
              "4            2011            Sin daño              Trasero  2018    1   \n",
              "\n",
              "   DÍA NUMERO      DIA  HORA         CIUDAD_APROXIMADA       DATE  \n",
              "0          25   JUEVES    10                    JUAREZ 2018-01-25  \n",
              "1          19  VIERNES     9  SAN NICOLAS DE LOS GARZA 2018-01-19  \n",
              "2          29    LUNES    17                 GUADALUPE 2018-01-29  \n",
              "3          26    LUNES     2  SAN NICOLAS DE LOS GARZA 2018-02-26  \n",
              "4           1    LUNES     0                 GUADALUPE 2018-01-01  "
            ]
          },
          "execution_count": 45,
          "metadata": {},
          "output_type": "execute_result"
        }
      ],
      "source": [
        "## De aquí podemos partir y usar está base de datos para continuar con otros análisis\n",
        "data_datlas.head()"
      ]
    },
    {
      "cell_type": "code",
      "execution_count": 46,
      "metadata": {},
      "outputs": [
        {
          "name": "stdout",
          "output_type": "stream",
          "text": [
            "<class 'pandas.core.frame.DataFrame'>\n",
            "RangeIndex: 91147 entries, 0 to 91146\n",
            "Data columns (total 18 columns):\n",
            " #   Column               Non-Null Count  Dtype         \n",
            "---  ------               --------------  -----         \n",
            " 0   LAT                  91147 non-null  float64       \n",
            " 1   LONG                 91147 non-null  float64       \n",
            " 2   CODIGO POSTAL        91147 non-null  object        \n",
            " 3   CALLE                91147 non-null  object        \n",
            " 4   COLONIA              91147 non-null  object        \n",
            " 5   CAUSA SINIESTRO      91147 non-null  object        \n",
            " 6   TIPO VEHICULO        91147 non-null  object        \n",
            " 7   COLOR                91147 non-null  object        \n",
            " 8   MODELO_VEHICULO      91147 non-null  object        \n",
            " 9   NIVEL DAÑO VEHICULO  91147 non-null  object        \n",
            " 10  PUNTO DE IMPACTO     91147 non-null  object        \n",
            " 11  AÑO                  91147 non-null  int64         \n",
            " 12  MES                  91147 non-null  int64         \n",
            " 13  DÍA NUMERO           91147 non-null  int64         \n",
            " 14  DIA                  91147 non-null  object        \n",
            " 15  HORA                 91147 non-null  int64         \n",
            " 16  CIUDAD_APROXIMADA    91147 non-null  object        \n",
            " 17  DATE                 91147 non-null  datetime64[ns]\n",
            "dtypes: datetime64[ns](1), float64(2), int64(4), object(11)\n",
            "memory usage: 12.5+ MB\n"
          ]
        }
      ],
      "source": [
        "data_datlas.info()"
      ]
    },
    {
      "attachments": {},
      "cell_type": "markdown",
      "metadata": {},
      "source": [
        "## 2.3 EDA (Exploratory Data Analysis)"
      ]
    },
    {
      "cell_type": "code",
      "execution_count": null,
      "metadata": {},
      "outputs": [],
      "source": []
    }
  ],
  "metadata": {
    "colab": {
      "provenance": []
    },
    "kernelspec": {
      "display_name": "Python 3",
      "name": "python3"
    },
    "language_info": {
      "codemirror_mode": {
        "name": "ipython",
        "version": 3
      },
      "file_extension": ".py",
      "mimetype": "text/x-python",
      "name": "python",
      "nbconvert_exporter": "python",
      "pygments_lexer": "ipython3",
      "version": "3.11.3"
    }
  },
  "nbformat": 4,
  "nbformat_minor": 0
}
